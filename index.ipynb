{
 "cells": [
  {
   "cell_type": "markdown",
   "metadata": {},
   "source": [
    "# Predicting the cost of cars"
   ]
  },
  {
   "cell_type": "markdown",
   "metadata": {},
   "source": [
    "Used car dealership develops app to attract new customers. In it, you can quickly find out the market value of your car. Historical data: technical characteristics, configurations and prices of cars. You need to build a model determine the cost. \n",
    "\n",
    "The customer is important:\n",
    "- quality if prediction\n",
    "- prediction speed\n",
    "- studying time"
   ]
  },
  {
   "cell_type": "markdown",
   "metadata": {},
   "source": [
    "## Import Libraries and Tools"
   ]
  },
  {
   "cell_type": "code",
   "execution_count": 1,
   "metadata": {
    "scrolled": true
   },
   "outputs": [
    {
     "name": "stdout",
     "output_type": "stream",
     "text": [
      "Requirement already satisfied: missingno in /Users/alexander/opt/anaconda3/lib/python3.9/site-packages (0.5.2)\n",
      "Requirement already satisfied: numpy in /Users/alexander/opt/anaconda3/lib/python3.9/site-packages (from missingno) (1.21.5)\n",
      "Requirement already satisfied: matplotlib in /Users/alexander/opt/anaconda3/lib/python3.9/site-packages (from missingno) (3.5.2)\n",
      "Requirement already satisfied: scipy in /Users/alexander/opt/anaconda3/lib/python3.9/site-packages (from missingno) (1.9.1)\n",
      "Requirement already satisfied: seaborn in /Users/alexander/opt/anaconda3/lib/python3.9/site-packages (from missingno) (0.11.2)\n",
      "Requirement already satisfied: cycler>=0.10 in /Users/alexander/opt/anaconda3/lib/python3.9/site-packages (from matplotlib->missingno) (0.11.0)\n",
      "Requirement already satisfied: fonttools>=4.22.0 in /Users/alexander/opt/anaconda3/lib/python3.9/site-packages (from matplotlib->missingno) (4.25.0)\n",
      "Requirement already satisfied: kiwisolver>=1.0.1 in /Users/alexander/opt/anaconda3/lib/python3.9/site-packages (from matplotlib->missingno) (1.4.2)\n",
      "Requirement already satisfied: packaging>=20.0 in /Users/alexander/opt/anaconda3/lib/python3.9/site-packages (from matplotlib->missingno) (21.3)\n",
      "Requirement already satisfied: pillow>=6.2.0 in /Users/alexander/opt/anaconda3/lib/python3.9/site-packages (from matplotlib->missingno) (9.2.0)\n",
      "Requirement already satisfied: pyparsing>=2.2.1 in /Users/alexander/opt/anaconda3/lib/python3.9/site-packages (from matplotlib->missingno) (3.0.9)\n",
      "Requirement already satisfied: python-dateutil>=2.7 in /Users/alexander/opt/anaconda3/lib/python3.9/site-packages (from matplotlib->missingno) (2.8.2)\n",
      "Requirement already satisfied: pandas>=0.23 in /Users/alexander/opt/anaconda3/lib/python3.9/site-packages (from seaborn->missingno) (1.4.4)\n",
      "Requirement already satisfied: pytz>=2020.1 in /Users/alexander/opt/anaconda3/lib/python3.9/site-packages (from pandas>=0.23->seaborn->missingno) (2022.1)\n",
      "Requirement already satisfied: six>=1.5 in /Users/alexander/opt/anaconda3/lib/python3.9/site-packages (from python-dateutil>=2.7->matplotlib->missingno) (1.16.0)\n"
     ]
    }
   ],
   "source": [
    "!pip install missingno -U"
   ]
  },
  {
   "cell_type": "code",
   "execution_count": 2,
   "metadata": {
    "scrolled": false
   },
   "outputs": [
    {
     "name": "stdout",
     "output_type": "stream",
     "text": [
      "Requirement already satisfied: category_encoders in /Users/alexander/opt/anaconda3/lib/python3.9/site-packages (2.6.1)\n",
      "Requirement already satisfied: numpy>=1.14.0 in /Users/alexander/opt/anaconda3/lib/python3.9/site-packages (from category_encoders) (1.21.5)\n",
      "Requirement already satisfied: scikit-learn>=0.20.0 in /Users/alexander/opt/anaconda3/lib/python3.9/site-packages (from category_encoders) (1.1.1)\n",
      "Requirement already satisfied: scipy>=1.0.0 in /Users/alexander/opt/anaconda3/lib/python3.9/site-packages (from category_encoders) (1.9.1)\n",
      "Requirement already satisfied: statsmodels>=0.9.0 in /Users/alexander/opt/anaconda3/lib/python3.9/site-packages (from category_encoders) (0.13.2)\n",
      "Requirement already satisfied: pandas>=1.0.5 in /Users/alexander/opt/anaconda3/lib/python3.9/site-packages (from category_encoders) (1.4.4)\n",
      "Requirement already satisfied: patsy>=0.5.1 in /Users/alexander/opt/anaconda3/lib/python3.9/site-packages (from category_encoders) (0.5.2)\n",
      "Requirement already satisfied: python-dateutil>=2.8.1 in /Users/alexander/opt/anaconda3/lib/python3.9/site-packages (from pandas>=1.0.5->category_encoders) (2.8.2)\n",
      "Requirement already satisfied: pytz>=2020.1 in /Users/alexander/opt/anaconda3/lib/python3.9/site-packages (from pandas>=1.0.5->category_encoders) (2022.1)\n",
      "Requirement already satisfied: six in /Users/alexander/opt/anaconda3/lib/python3.9/site-packages (from patsy>=0.5.1->category_encoders) (1.16.0)\n",
      "Requirement already satisfied: joblib>=1.0.0 in /Users/alexander/opt/anaconda3/lib/python3.9/site-packages (from scikit-learn>=0.20.0->category_encoders) (1.1.0)\n",
      "Requirement already satisfied: threadpoolctl>=2.0.0 in /Users/alexander/opt/anaconda3/lib/python3.9/site-packages (from scikit-learn>=0.20.0->category_encoders) (2.2.0)\n",
      "Requirement already satisfied: packaging>=21.3 in /Users/alexander/opt/anaconda3/lib/python3.9/site-packages (from statsmodels>=0.9.0->category_encoders) (21.3)\n",
      "Requirement already satisfied: pyparsing!=3.0.5,>=2.0.2 in /Users/alexander/opt/anaconda3/lib/python3.9/site-packages (from packaging>=21.3->statsmodels>=0.9.0->category_encoders) (3.0.9)\n",
      "Note: you may need to restart the kernel to use updated packages.\n"
     ]
    }
   ],
   "source": [
    "pip install category_encoders"
   ]
  },
  {
   "cell_type": "code",
   "execution_count": 3,
   "metadata": {
    "scrolled": false
   },
   "outputs": [
    {
     "name": "stdout",
     "output_type": "stream",
     "text": [
      "Requirement already satisfied: lightgbm in /Users/alexander/opt/anaconda3/lib/python3.9/site-packages (3.3.5)\n",
      "Requirement already satisfied: wheel in /Users/alexander/opt/anaconda3/lib/python3.9/site-packages (from lightgbm) (0.37.1)\n",
      "Requirement already satisfied: numpy in /Users/alexander/opt/anaconda3/lib/python3.9/site-packages (from lightgbm) (1.21.5)\n",
      "Requirement already satisfied: scipy in /Users/alexander/opt/anaconda3/lib/python3.9/site-packages (from lightgbm) (1.9.1)\n",
      "Requirement already satisfied: scikit-learn!=0.22.0 in /Users/alexander/opt/anaconda3/lib/python3.9/site-packages (from lightgbm) (1.1.1)\n",
      "Requirement already satisfied: joblib>=1.0.0 in /Users/alexander/opt/anaconda3/lib/python3.9/site-packages (from scikit-learn!=0.22.0->lightgbm) (1.1.0)\n",
      "Requirement already satisfied: threadpoolctl>=2.0.0 in /Users/alexander/opt/anaconda3/lib/python3.9/site-packages (from scikit-learn!=0.22.0->lightgbm) (2.2.0)\n",
      "Note: you may need to restart the kernel to use updated packages.\n"
     ]
    }
   ],
   "source": [
    "pip install lightgbm "
   ]
  },
  {
   "cell_type": "code",
   "execution_count": 5,
   "metadata": {},
   "outputs": [],
   "source": [
    "import pandas as pd\n",
    "import numpy as np\n",
    "import matplotlib.pyplot as plt\n",
    "import seaborn as sns\n",
    "from sklearn.preprocessing import OrdinalEncoder\n",
    "from sklearn.preprocessing import StandardScaler\n",
    "from sklearn.model_selection import cross_val_score, GridSearchCV, train_test_split\n",
    "from sklearn.tree import DecisionTreeClassifier\n",
    "from sklearn.ensemble import RandomForestClassifier\n",
    "from sklearn.linear_model import LogisticRegression\n",
    "from sklearn.metrics import accuracy_score\n",
    "from sklearn.linear_model import LinearRegression\n",
    "from sklearn.tree import DecisionTreeRegressor\n",
    "from sklearn.ensemble import RandomForestRegressor\n",
    "from sklearn.metrics import mean_squared_error\n",
    "import timeit\n",
    "import warnings\n",
    "\n",
    "\n",
    "from category_encoders import TargetEncoder\n",
    "import missingno\n",
    "import lightgbm as lgb"
   ]
  },
  {
   "cell_type": "markdown",
   "metadata": {},
   "source": [
    "Warning are not displayed"
   ]
  },
  {
   "cell_type": "code",
   "execution_count": 6,
   "metadata": {},
   "outputs": [],
   "source": [
    "warnings.filterwarnings('ignore')"
   ]
  },
  {
   "cell_type": "markdown",
   "metadata": {},
   "source": [
    "## Data preparation"
   ]
  },
  {
   "cell_type": "code",
   "execution_count": 8,
   "metadata": {
    "scrolled": true
   },
   "outputs": [
    {
     "name": "stdout",
     "output_type": "stream",
     "text": [
      "<class 'pandas.core.frame.DataFrame'>\n",
      "RangeIndex: 354369 entries, 0 to 354368\n",
      "Data columns (total 16 columns):\n",
      " #   Column             Non-Null Count   Dtype \n",
      "---  ------             --------------   ----- \n",
      " 0   DateCrawled        354369 non-null  object\n",
      " 1   Price              354369 non-null  int64 \n",
      " 2   VehicleType        316879 non-null  object\n",
      " 3   RegistrationYear   354369 non-null  int64 \n",
      " 4   Gearbox            334536 non-null  object\n",
      " 5   Power              354369 non-null  int64 \n",
      " 6   Model              334664 non-null  object\n",
      " 7   Kilometer          354369 non-null  int64 \n",
      " 8   RegistrationMonth  354369 non-null  int64 \n",
      " 9   FuelType           321474 non-null  object\n",
      " 10  Brand              354369 non-null  object\n",
      " 11  Repaired           283215 non-null  object\n",
      " 12  DateCreated        354369 non-null  object\n",
      " 13  NumberOfPictures   354369 non-null  int64 \n",
      " 14  PostalCode         354369 non-null  int64 \n",
      " 15  LastSeen           354369 non-null  object\n",
      "dtypes: int64(7), object(9)\n",
      "memory usage: 43.3+ MB\n"
     ]
    }
   ],
   "source": [
    "try:\n",
    "    df = pd.read_csv('/datasets/autos.csv')\n",
    "except:\n",
    "    df = pd.read_csv('datasets/autos.csv')\n",
    "df.info()"
   ]
  },
  {
   "cell_type": "code",
   "execution_count": 9,
   "metadata": {
    "scrolled": true
   },
   "outputs": [
    {
     "data": {
      "text/html": [
       "<div>\n",
       "<style scoped>\n",
       "    .dataframe tbody tr th:only-of-type {\n",
       "        vertical-align: middle;\n",
       "    }\n",
       "\n",
       "    .dataframe tbody tr th {\n",
       "        vertical-align: top;\n",
       "    }\n",
       "\n",
       "    .dataframe thead th {\n",
       "        text-align: right;\n",
       "    }\n",
       "</style>\n",
       "<table border=\"1\" class=\"dataframe\">\n",
       "  <thead>\n",
       "    <tr style=\"text-align: right;\">\n",
       "      <th></th>\n",
       "      <th>DateCrawled</th>\n",
       "      <th>Price</th>\n",
       "      <th>VehicleType</th>\n",
       "      <th>RegistrationYear</th>\n",
       "      <th>Gearbox</th>\n",
       "      <th>Power</th>\n",
       "      <th>Model</th>\n",
       "      <th>Kilometer</th>\n",
       "      <th>RegistrationMonth</th>\n",
       "      <th>FuelType</th>\n",
       "      <th>Brand</th>\n",
       "      <th>Repaired</th>\n",
       "      <th>DateCreated</th>\n",
       "      <th>NumberOfPictures</th>\n",
       "      <th>PostalCode</th>\n",
       "      <th>LastSeen</th>\n",
       "    </tr>\n",
       "  </thead>\n",
       "  <tbody>\n",
       "    <tr>\n",
       "      <th>0</th>\n",
       "      <td>2016-03-24 11:52:17</td>\n",
       "      <td>480</td>\n",
       "      <td>NaN</td>\n",
       "      <td>1993</td>\n",
       "      <td>manual</td>\n",
       "      <td>0</td>\n",
       "      <td>golf</td>\n",
       "      <td>150000</td>\n",
       "      <td>0</td>\n",
       "      <td>petrol</td>\n",
       "      <td>volkswagen</td>\n",
       "      <td>NaN</td>\n",
       "      <td>2016-03-24 00:00:00</td>\n",
       "      <td>0</td>\n",
       "      <td>70435</td>\n",
       "      <td>2016-04-07 03:16:57</td>\n",
       "    </tr>\n",
       "    <tr>\n",
       "      <th>1</th>\n",
       "      <td>2016-03-24 10:58:45</td>\n",
       "      <td>18300</td>\n",
       "      <td>coupe</td>\n",
       "      <td>2011</td>\n",
       "      <td>manual</td>\n",
       "      <td>190</td>\n",
       "      <td>NaN</td>\n",
       "      <td>125000</td>\n",
       "      <td>5</td>\n",
       "      <td>gasoline</td>\n",
       "      <td>audi</td>\n",
       "      <td>yes</td>\n",
       "      <td>2016-03-24 00:00:00</td>\n",
       "      <td>0</td>\n",
       "      <td>66954</td>\n",
       "      <td>2016-04-07 01:46:50</td>\n",
       "    </tr>\n",
       "    <tr>\n",
       "      <th>2</th>\n",
       "      <td>2016-03-14 12:52:21</td>\n",
       "      <td>9800</td>\n",
       "      <td>suv</td>\n",
       "      <td>2004</td>\n",
       "      <td>auto</td>\n",
       "      <td>163</td>\n",
       "      <td>grand</td>\n",
       "      <td>125000</td>\n",
       "      <td>8</td>\n",
       "      <td>gasoline</td>\n",
       "      <td>jeep</td>\n",
       "      <td>NaN</td>\n",
       "      <td>2016-03-14 00:00:00</td>\n",
       "      <td>0</td>\n",
       "      <td>90480</td>\n",
       "      <td>2016-04-05 12:47:46</td>\n",
       "    </tr>\n",
       "    <tr>\n",
       "      <th>3</th>\n",
       "      <td>2016-03-17 16:54:04</td>\n",
       "      <td>1500</td>\n",
       "      <td>small</td>\n",
       "      <td>2001</td>\n",
       "      <td>manual</td>\n",
       "      <td>75</td>\n",
       "      <td>golf</td>\n",
       "      <td>150000</td>\n",
       "      <td>6</td>\n",
       "      <td>petrol</td>\n",
       "      <td>volkswagen</td>\n",
       "      <td>no</td>\n",
       "      <td>2016-03-17 00:00:00</td>\n",
       "      <td>0</td>\n",
       "      <td>91074</td>\n",
       "      <td>2016-03-17 17:40:17</td>\n",
       "    </tr>\n",
       "    <tr>\n",
       "      <th>4</th>\n",
       "      <td>2016-03-31 17:25:20</td>\n",
       "      <td>3600</td>\n",
       "      <td>small</td>\n",
       "      <td>2008</td>\n",
       "      <td>manual</td>\n",
       "      <td>69</td>\n",
       "      <td>fabia</td>\n",
       "      <td>90000</td>\n",
       "      <td>7</td>\n",
       "      <td>gasoline</td>\n",
       "      <td>skoda</td>\n",
       "      <td>no</td>\n",
       "      <td>2016-03-31 00:00:00</td>\n",
       "      <td>0</td>\n",
       "      <td>60437</td>\n",
       "      <td>2016-04-06 10:17:21</td>\n",
       "    </tr>\n",
       "  </tbody>\n",
       "</table>\n",
       "</div>"
      ],
      "text/plain": [
       "           DateCrawled  Price VehicleType  RegistrationYear Gearbox  Power  \\\n",
       "0  2016-03-24 11:52:17    480         NaN              1993  manual      0   \n",
       "1  2016-03-24 10:58:45  18300       coupe              2011  manual    190   \n",
       "2  2016-03-14 12:52:21   9800         suv              2004    auto    163   \n",
       "3  2016-03-17 16:54:04   1500       small              2001  manual     75   \n",
       "4  2016-03-31 17:25:20   3600       small              2008  manual     69   \n",
       "\n",
       "   Model  Kilometer  RegistrationMonth  FuelType       Brand Repaired  \\\n",
       "0   golf     150000                  0    petrol  volkswagen      NaN   \n",
       "1    NaN     125000                  5  gasoline        audi      yes   \n",
       "2  grand     125000                  8  gasoline        jeep      NaN   \n",
       "3   golf     150000                  6    petrol  volkswagen       no   \n",
       "4  fabia      90000                  7  gasoline       skoda       no   \n",
       "\n",
       "           DateCreated  NumberOfPictures  PostalCode             LastSeen  \n",
       "0  2016-03-24 00:00:00                 0       70435  2016-04-07 03:16:57  \n",
       "1  2016-03-24 00:00:00                 0       66954  2016-04-07 01:46:50  \n",
       "2  2016-03-14 00:00:00                 0       90480  2016-04-05 12:47:46  \n",
       "3  2016-03-17 00:00:00                 0       91074  2016-03-17 17:40:17  \n",
       "4  2016-03-31 00:00:00                 0       60437  2016-04-06 10:17:21  "
      ]
     },
     "execution_count": 9,
     "metadata": {},
     "output_type": "execute_result"
    }
   ],
   "source": [
    "df.head()"
   ]
  },
  {
   "cell_type": "markdown",
   "metadata": {},
   "source": [
    "### Handling Missing Values"
   ]
  },
  {
   "cell_type": "code",
   "execution_count": 10,
   "metadata": {},
   "outputs": [
    {
     "data": {
      "text/plain": [
       "DateCrawled              0\n",
       "Price                    0\n",
       "VehicleType          37490\n",
       "RegistrationYear         0\n",
       "Gearbox              19833\n",
       "Power                    0\n",
       "Model                19705\n",
       "Kilometer                0\n",
       "RegistrationMonth        0\n",
       "FuelType             32895\n",
       "Brand                    0\n",
       "Repaired             71154\n",
       "DateCreated              0\n",
       "NumberOfPictures         0\n",
       "PostalCode               0\n",
       "LastSeen                 0\n",
       "dtype: int64"
      ]
     },
     "execution_count": 10,
     "metadata": {},
     "output_type": "execute_result"
    }
   ],
   "source": [
    "df.isna().sum()"
   ]
  },
  {
   "cell_type": "code",
   "execution_count": 11,
   "metadata": {},
   "outputs": [
    {
     "data": {
      "text/plain": [
       "<AxesSubplot:>"
      ]
     },
     "execution_count": 11,
     "metadata": {},
     "output_type": "execute_result"
    },
    {
     "data": {
      "image/png": "[encoded data removed]",
      "text/plain": [
       "<Figure size 2000x1200 with 2 Axes>"
      ]
     },
     "metadata": {},
     "output_type": "display_data"
    }
   ],
   "source": [
    "missingno.heatmap(df)"
   ]
  },
  {
   "cell_type": "markdown",
   "metadata": {},
   "source": [
    "**Conclusion:** 5 features have missing values and weak correlation. Before getting rid of missing values, it is necessary to check whether there are strongly correlated features in the overall dataset "
   ]
  },
  {
   "cell_type": "markdown",
   "metadata": {},
   "source": [
    "### Remove the missing values in each of the 5 features:\n",
    "- VehicleType\n",
    "- Model\n",
    "- FuelType\n",
    "- Gearbox\n",
    "- Repaired"
   ]
  },
  {
   "cell_type": "markdown",
   "metadata": {},
   "source": [
    "We will remove all missing values using machine learning algorithms – classification and regression. The attribute in which we will remove missing values will be called the Target attribute. For each such feature, we define a set of features that affect this"
   ]
  },
  {
   "cell_type": "markdown",
   "metadata": {},
   "source": [
    "### Initializing useful functions"
   ]
  },
  {
   "cell_type": "markdown",
   "metadata": {},
   "source": [
    "**Calculates the percentage of missing values from the total number of objects in the dataset**"
   ]
  },
  {
   "cell_type": "code",
   "execution_count": 12,
   "metadata": {},
   "outputs": [],
   "source": [
    "def print_per_na(feature):\n",
    "    return f'{(df[feature].isna().sum() / df.shape[0] * 100).round(2)}%'"
   ]
  },
  {
   "cell_type": "markdown",
   "metadata": {},
   "source": [
    "**Preparation of training and test datasets**"
   ]
  },
  {
   "cell_type": "code",
   "execution_count": 13,
   "metadata": {},
   "outputs": [],
   "source": [
    "def prepare_data(features, target):\n",
    "    is_obj = False\n",
    "    df_new = pd.DataFrame()\n",
    "    for feature in features:\n",
    "        df_new[feature] = df[feature]\n",
    "        if df[feature].dtype == 'O':\n",
    "            is_obj = True\n",
    "    df_new[target] = df[target]\n",
    "    \n",
    "    df_test = df_new[df_new[target].isna()]\n",
    "    df_train = df_new[~df_new[target].isna()]\n",
    "    \n",
    "    features_test = df_test.drop([target], axis=1)\n",
    "    target_test = df_test[target]\n",
    "    \n",
    "    features_train = df_train.drop([target], axis=1)\n",
    "    target_train = df_train[target]\n",
    "    \n",
    "    if is_obj:\n",
    "        model = OrdinalEncoder()\n",
    "        array_feat_test = model.fit_transform(features_test)\n",
    "        array_feat_train = model.fit_transform(features_train)\n",
    "        features_test = pd.DataFrame(array_feat_test, index=features_test.index, columns=features_test.columns)\n",
    "        features_train = pd.DataFrame(array_feat_train, index=features_train.index, columns=features_train.columns)\n",
    "    \n",
    "    return features_train, features_test, target_train, target_test"
   ]
  },
  {
   "cell_type": "markdown",
   "metadata": {},
   "source": [
    "**Getting a completed feature**"
   ]
  },
  {
   "cell_type": "code",
   "execution_count": 15,
   "metadata": {},
   "outputs": [],
   "source": [
    "def join_predictions(features_train, target_train, features_test, target_predict, target_name):\n",
    "    df_predict = pd.DataFrame(data=target_predict, index=features_test.index, columns=[target_name])\n",
    "    features_train[target_name] = target_train\n",
    "    df_intermediate = pd.concat([features_test.join(df_predict), features_train])\n",
    "    return df_intermediate[target_name]"
   ]
  },
  {
   "cell_type": "markdown",
   "metadata": {},
   "source": [
    "### VehicleType"
   ]
  },
  {
   "cell_type": "code",
   "execution_count": 16,
   "metadata": {},
   "outputs": [
    {
     "data": {
      "text/plain": [
       "'10.58%'"
      ]
     },
     "execution_count": 16,
     "metadata": {},
     "output_type": "execute_result"
    }
   ],
   "source": [
    "print_per_na(\"VehicleType\")"
   ]
  },
  {
   "cell_type": "code",
   "execution_count": 17,
   "metadata": {},
   "outputs": [
    {
     "data": {
      "text/plain": [
       "VehicleType\n",
       "sedan          91457\n",
       "small          79831\n",
       "wagon          65166\n",
       "bus            28775\n",
       "convertible    20203\n",
       "coupe          16163\n",
       "suv            11996\n",
       "other           3288\n",
       "Name: VehicleType, dtype: int64"
      ]
     },
     "execution_count": 17,
     "metadata": {},
     "output_type": "execute_result"
    }
   ],
   "source": [
    "df.groupby('VehicleType')['VehicleType'].count().sort_values(ascending=False)"
   ]
  },
  {
   "cell_type": "markdown",
   "metadata": {},
   "source": [
    "There are too many missing data in the attribute, so we will not delete them, but fill in these values. Also no implicit missing values found"
   ]
  },
  {
   "cell_type": "markdown",
   "metadata": {},
   "source": [
    "For the target feature VehicleType, the significant feature is Power"
   ]
  },
  {
   "cell_type": "markdown",
   "metadata": {},
   "source": [
    "Let's check the expediency of including in Power as a feature for model training"
   ]
  },
  {
   "cell_type": "code",
   "execution_count": 18,
   "metadata": {},
   "outputs": [
    {
     "data": {
      "text/html": [
       "<div>\n",
       "<style scoped>\n",
       "    .dataframe tbody tr th:only-of-type {\n",
       "        vertical-align: middle;\n",
       "    }\n",
       "\n",
       "    .dataframe tbody tr th {\n",
       "        vertical-align: top;\n",
       "    }\n",
       "\n",
       "    .dataframe thead tr th {\n",
       "        text-align: left;\n",
       "    }\n",
       "\n",
       "    .dataframe thead tr:last-of-type th {\n",
       "        text-align: right;\n",
       "    }\n",
       "</style>\n",
       "<table border=\"1\" class=\"dataframe\">\n",
       "  <thead>\n",
       "    <tr>\n",
       "      <th></th>\n",
       "      <th>mean</th>\n",
       "      <th>median</th>\n",
       "    </tr>\n",
       "    <tr>\n",
       "      <th></th>\n",
       "      <th>Power</th>\n",
       "      <th>Power</th>\n",
       "    </tr>\n",
       "    <tr>\n",
       "      <th>VehicleType</th>\n",
       "      <th></th>\n",
       "      <th></th>\n",
       "    </tr>\n",
       "  </thead>\n",
       "  <tbody>\n",
       "    <tr>\n",
       "      <th>bus</th>\n",
       "      <td>111.588115</td>\n",
       "      <td>110</td>\n",
       "    </tr>\n",
       "    <tr>\n",
       "      <th>convertible</th>\n",
       "      <td>131.660050</td>\n",
       "      <td>122</td>\n",
       "    </tr>\n",
       "    <tr>\n",
       "      <th>coupe</th>\n",
       "      <td>153.186475</td>\n",
       "      <td>148</td>\n",
       "    </tr>\n",
       "    <tr>\n",
       "      <th>other</th>\n",
       "      <td>97.325426</td>\n",
       "      <td>85</td>\n",
       "    </tr>\n",
       "    <tr>\n",
       "      <th>sedan</th>\n",
       "      <td>127.536383</td>\n",
       "      <td>116</td>\n",
       "    </tr>\n",
       "    <tr>\n",
       "      <th>small</th>\n",
       "      <td>68.519234</td>\n",
       "      <td>64</td>\n",
       "    </tr>\n",
       "    <tr>\n",
       "      <th>suv</th>\n",
       "      <td>154.374708</td>\n",
       "      <td>150</td>\n",
       "    </tr>\n",
       "    <tr>\n",
       "      <th>wagon</th>\n",
       "      <td>133.744560</td>\n",
       "      <td>131</td>\n",
       "    </tr>\n",
       "  </tbody>\n",
       "</table>\n",
       "</div>"
      ],
      "text/plain": [
       "                   mean median\n",
       "                  Power  Power\n",
       "VehicleType                   \n",
       "bus          111.588115    110\n",
       "convertible  131.660050    122\n",
       "coupe        153.186475    148\n",
       "other         97.325426     85\n",
       "sedan        127.536383    116\n",
       "small         68.519234     64\n",
       "suv          154.374708    150\n",
       "wagon        133.744560    131"
      ]
     },
     "execution_count": 18,
     "metadata": {},
     "output_type": "execute_result"
    }
   ],
   "source": [
    "df.pivot_table(index=['VehicleType'], values='Power', aggfunc=['mean', 'median'])"
   ]
  },
  {
   "cell_type": "markdown",
   "metadata": {},
   "source": [
    "First of all, we note that the data skewness of the Power feature is quite low, which means we can notice that each category has its own power range. Therefore, the feature is chosen correctly"
   ]
  },
  {
   "cell_type": "code",
   "execution_count": 19,
   "metadata": {},
   "outputs": [
    {
     "name": "stdout",
     "output_type": "stream",
     "text": [
      "(316879, 1)\n",
      "(37490, 1)\n",
      "(316879,)\n",
      "(37490,)\n"
     ]
    }
   ],
   "source": [
    "features_train_veh, features_test_veh, target_train_veh, target_test_veh = prepare_data(['Power'], 'VehicleType')\n",
    "print(features_train_veh.shape)\n",
    "print(features_test_veh.shape)\n",
    "print(target_train_veh.shape)\n",
    "print(target_test_veh.shape)"
   ]
  },
  {
   "cell_type": "markdown",
   "metadata": {},
   "source": [
    "We solve the classification problem and choose the best quality model"
   ]
  },
  {
   "cell_type": "code",
   "execution_count": 20,
   "metadata": {},
   "outputs": [
    {
     "data": {
      "text/plain": [
       "0.4549749180745006"
      ]
     },
     "execution_count": 20,
     "metadata": {},
     "output_type": "execute_result"
    }
   ],
   "source": [
    "model_tree_veh = DecisionTreeClassifier(random_state=12345, max_depth=200, min_samples_leaf=500)\n",
    "scores_veh = cross_val_score(model_tree_veh, features_train_veh, target_train_veh, cv=5)\n",
    "final_score_veh = sum(scores_veh) / len(scores_veh)\n",
    "final_score_veh"
   ]
  },
  {
   "cell_type": "code",
   "execution_count": 21,
   "metadata": {},
   "outputs": [
    {
     "data": {
      "text/plain": [
       "0.4530404249619192"
      ]
     },
     "execution_count": 21,
     "metadata": {},
     "output_type": "execute_result"
    }
   ],
   "source": [
    "model_forest_veh = RandomForestClassifier(random_state=12345, n_estimators=80, max_depth=200, min_samples_leaf=500)\n",
    "scores_veh = cross_val_score(model_forest_veh, features_train_veh, target_train_veh, cv=5)\n",
    "final_score_veh = sum(scores_veh) / len(scores_veh)\n",
    "final_score_veh"
   ]
  },
  {
   "cell_type": "code",
   "execution_count": 22,
   "metadata": {},
   "outputs": [
    {
     "data": {
      "text/plain": [
       "0.43593611120655185"
      ]
     },
     "execution_count": 22,
     "metadata": {},
     "output_type": "execute_result"
    }
   ],
   "source": [
    "model_logic_veh = LogisticRegression(random_state=12345, max_iter=3000)\n",
    "scores_veh = cross_val_score(model_logic_veh, features_train_veh, target_train_veh, cv=5)\n",
    "final_score_veh = sum(scores_veh) / len(scores_veh)\n",
    "final_score_veh"
   ]
  },
  {
   "cell_type": "markdown",
   "metadata": {},
   "source": [
    "The highest quality model is DecisionTreeClassifier. Let's fill in the blanks"
   ]
  },
  {
   "cell_type": "code",
   "execution_count": 23,
   "metadata": {
    "scrolled": true
   },
   "outputs": [],
   "source": [
    "model_tree_veh.fit(features_train_veh, target_train_veh)\n",
    "target_predict_veh = model_tree_veh.predict(features_test_veh)\n"
   ]
  },
  {
   "cell_type": "markdown",
   "metadata": {},
   "source": [
    "Let's fill in the missing values of the feature and attach it to our dataset"
   ]
  },
  {
   "cell_type": "code",
   "execution_count": 24,
   "metadata": {
    "scrolled": true
   },
   "outputs": [
    {
     "data": {
      "text/plain": [
       "0"
      ]
     },
     "execution_count": 24,
     "metadata": {},
     "output_type": "execute_result"
    }
   ],
   "source": [
    "df['VehicleType'] = join_predictions(features_train_veh, target_train_veh, features_test_veh, target_predict_veh, 'VehicleType')\n",
    "df['VehicleType'].isna().sum()\n"
   ]
  },
  {
   "cell_type": "markdown",
   "metadata": {},
   "source": [
    "### Model"
   ]
  },
  {
   "cell_type": "code",
   "execution_count": 25,
   "metadata": {},
   "outputs": [
    {
     "data": {
      "text/plain": [
       "'5.56%'"
      ]
     },
     "execution_count": 25,
     "metadata": {},
     "output_type": "execute_result"
    }
   ],
   "source": [
    "print_per_na('Model')"
   ]
  },
  {
   "cell_type": "code",
   "execution_count": 26,
   "metadata": {
    "scrolled": false
   },
   "outputs": [
    {
     "data": {
      "text/plain": [
       "Brand\n",
       "volkswagen        73508\n",
       "opel              38060\n",
       "bmw               34979\n",
       "mercedes_benz     30836\n",
       "audi              28173\n",
       "ford              24166\n",
       "renault           17192\n",
       "peugeot           10107\n",
       "fiat               9141\n",
       "seat               6672\n",
       "skoda              5359\n",
       "mazda              5263\n",
       "smart              4978\n",
       "citroen            4899\n",
       "nissan             4734\n",
       "toyota             4449\n",
       "hyundai            3359\n",
       "mini               3140\n",
       "volvo              3101\n",
       "mitsubishi         2862\n",
       "honda              2662\n",
       "kia                2352\n",
       "suzuki             2186\n",
       "alfa_romeo         2177\n",
       "chevrolet          1644\n",
       "chrysler           1350\n",
       "dacia               878\n",
       "daihatsu            767\n",
       "subaru              718\n",
       "porsche             716\n",
       "jeep                651\n",
       "land_rover          532\n",
       "saab                510\n",
       "daewoo              496\n",
       "trabant             494\n",
       "jaguar              491\n",
       "lancia              448\n",
       "rover               404\n",
       "lada                210\n",
       "sonstige_autos        0\n",
       "Name: Model, dtype: int64"
      ]
     },
     "execution_count": 26,
     "metadata": {},
     "output_type": "execute_result"
    }
   ],
   "source": [
    "df.groupby('Brand')['Model'].count().sort_values(ascending=False)"
   ]
  },
  {
   "cell_type": "markdown",
   "metadata": {},
   "source": [
    "The percentage of missing values from the entire dataset is slightly more than five percent. No implicit duplicates found. Let's highlight the signs that can fill in the missing values:\n",
    "- Brand\n",
    "- RegistrationYear\n",
    "- VehicleType"
   ]
  },
  {
   "cell_type": "code",
   "execution_count": 27,
   "metadata": {},
   "outputs": [
    {
     "name": "stdout",
     "output_type": "stream",
     "text": [
      "(334664, 3)\n",
      "(19705, 3)\n",
      "(334664,)\n",
      "(19705,)\n"
     ]
    }
   ],
   "source": [
    "features_train_mdl, features_test_mdl, target_train_mdl, target_test_mdl = prepare_data(['Brand', 'RegistrationYear', 'VehicleType'], 'Model')\n",
    "print(features_train_mdl.shape)\n",
    "print(features_test_mdl.shape)\n",
    "print(target_train_mdl.shape)\n",
    "print(target_test_mdl.shape)"
   ]
  },
  {
   "cell_type": "markdown",
   "metadata": {},
   "source": [
    "We solve the classification problem and choose the best quality model"
   ]
  },
  {
   "cell_type": "code",
   "execution_count": 28,
   "metadata": {},
   "outputs": [
    {
     "data": {
      "text/plain": [
       "0.5630034948913721"
      ]
     },
     "execution_count": 28,
     "metadata": {},
     "output_type": "execute_result"
    }
   ],
   "source": [
    "model_tree_mdl = DecisionTreeClassifier(random_state=12345, max_depth=500, min_samples_leaf=500)\n",
    "scores_mdl = cross_val_score(model_tree_mdl, features_train_mdl, target_train_mdl, cv=5)\n",
    "final_score_mdl = sum(scores_mdl) / len(scores_mdl)\n",
    "final_score_mdl"
   ]
  },
  {
   "cell_type": "code",
   "execution_count": 29,
   "metadata": {},
   "outputs": [
    {
     "data": {
      "text/plain": [
       "0.5189443803541337"
      ]
     },
     "execution_count": 29,
     "metadata": {},
     "output_type": "execute_result"
    }
   ],
   "source": [
    "model_forest_mdl = RandomForestClassifier(random_state=12345, n_estimators=120, max_depth=200, min_samples_leaf=500)\n",
    "scores_mdl = cross_val_score(model_forest_mdl, features_train_mdl, target_train_mdl, cv=5)\n",
    "final_score_mdl = sum(scores_mdl) / len(scores_mdl)\n",
    "final_score_mdl"
   ]
  },
  {
   "cell_type": "markdown",
   "metadata": {},
   "source": [
    "The highest quality model is DecisionTreeClassifier. Let's fill in the blanks"
   ]
  },
  {
   "cell_type": "code",
   "execution_count": 30,
   "metadata": {},
   "outputs": [],
   "source": [
    "model_tree_mdl.fit(features_train_mdl, target_train_mdl)\n",
    "target_predict_mdl = model_tree_mdl.predict(features_test_mdl)"
   ]
  },
  {
   "cell_type": "markdown",
   "metadata": {},
   "source": [
    "Let's fill in the missing values of the features and attach it to our dataset"
   ]
  },
  {
   "cell_type": "code",
   "execution_count": 31,
   "metadata": {},
   "outputs": [
    {
     "data": {
      "text/plain": [
       "0"
      ]
     },
     "execution_count": 31,
     "metadata": {},
     "output_type": "execute_result"
    }
   ],
   "source": [
    "df['Model'] = join_predictions(features_train_mdl, target_train_mdl, features_test_mdl, target_predict_mdl, 'Model')\n",
    "df['Model'].isna().sum()"
   ]
  },
  {
   "cell_type": "markdown",
   "metadata": {},
   "source": [
    "### FuelType"
   ]
  },
  {
   "cell_type": "code",
   "execution_count": 32,
   "metadata": {},
   "outputs": [
    {
     "data": {
      "text/plain": [
       "'9.28%'"
      ]
     },
     "execution_count": 32,
     "metadata": {},
     "output_type": "execute_result"
    }
   ],
   "source": [
    "print_per_na('FuelType')"
   ]
  },
  {
   "cell_type": "code",
   "execution_count": 33,
   "metadata": {},
   "outputs": [
    {
     "data": {
      "text/plain": [
       "FuelType\n",
       "petrol      216352\n",
       "gasoline     98720\n",
       "lpg           5310\n",
       "cng            565\n",
       "hybrid         233\n",
       "other          204\n",
       "electric        90\n",
       "Name: FuelType, dtype: int64"
      ]
     },
     "execution_count": 33,
     "metadata": {},
     "output_type": "execute_result"
    }
   ],
   "source": [
    "df.groupby('FuelType')['FuelType'].count().sort_values(ascending=False)"
   ]
  },
  {
   "cell_type": "markdown",
   "metadata": {},
   "source": [
    "The percentage of missing values from the entire dataset is slightly more than nine percent. No implicit duplicates found. Let's highlight the features that can fill in the missing values:\n",
    "- Model\n",
    "- RegistrationYear"
   ]
  },
  {
   "cell_type": "code",
   "execution_count": 34,
   "metadata": {},
   "outputs": [
    {
     "name": "stdout",
     "output_type": "stream",
     "text": [
      "(321474, 2)\n",
      "(32895, 2)\n",
      "(321474,)\n",
      "(32895,)\n"
     ]
    }
   ],
   "source": [
    "features_train_ft, features_test_ft, target_train_ft, target_test_ft = prepare_data(['Brand', 'RegistrationYear'], 'FuelType')\n",
    "print(features_train_ft.shape)\n",
    "print(features_test_ft.shape)\n",
    "print(target_train_ft.shape)\n",
    "print(target_test_ft.shape)\n"
   ]
  },
  {
   "cell_type": "markdown",
   "metadata": {},
   "source": [
    "We solve the classification problem and choose the best quality model"
   ]
  },
  {
   "cell_type": "code",
   "execution_count": 35,
   "metadata": {},
   "outputs": [
    {
     "data": {
      "text/plain": [
       "0.7238781286407862"
      ]
     },
     "execution_count": 35,
     "metadata": {},
     "output_type": "execute_result"
    }
   ],
   "source": [
    "model_tree_ft = DecisionTreeClassifier(random_state=12345, max_depth=500, min_samples_leaf=500)\n",
    "scores_ft = cross_val_score(model_tree_ft, features_train_ft, target_train_ft, cv=5)\n",
    "final_score_ft = sum(scores_ft) / len(scores_ft)\n",
    "final_score_ft"
   ]
  },
  {
   "cell_type": "code",
   "execution_count": 36,
   "metadata": {},
   "outputs": [
    {
     "data": {
      "text/plain": [
       "0.7243478416680115"
      ]
     },
     "execution_count": 36,
     "metadata": {},
     "output_type": "execute_result"
    }
   ],
   "source": [
    "model_forest_ft = RandomForestClassifier(random_state=12345, n_estimators=160, max_depth=300, min_samples_leaf=500)\n",
    "scores_ft = cross_val_score(model_forest_ft, features_train_ft, target_train_ft, cv=5)\n",
    "final_score_ft = sum(scores_ft) / len(scores_ft)\n",
    "final_score_ft"
   ]
  },
  {
   "cell_type": "markdown",
   "metadata": {},
   "source": [
    "The highest quality model is DecisionTreeClassifier. Let's fill in the blanks"
   ]
  },
  {
   "cell_type": "code",
   "execution_count": 37,
   "metadata": {},
   "outputs": [],
   "source": [
    "model_tree_ft.fit(features_train_ft, target_train_ft)\n",
    "target_predict_ft = model_tree_ft.predict(features_test_ft)"
   ]
  },
  {
   "cell_type": "markdown",
   "metadata": {},
   "source": [
    "Let's fill in the missing values of the feature and attach it to our dataset"
   ]
  },
  {
   "cell_type": "code",
   "execution_count": 38,
   "metadata": {},
   "outputs": [
    {
     "data": {
      "text/plain": [
       "0"
      ]
     },
     "execution_count": 38,
     "metadata": {},
     "output_type": "execute_result"
    }
   ],
   "source": [
    "df['FuelType'] = join_predictions(features_train_ft, target_train_ft, features_test_ft, target_predict_ft, 'FuelType')\n",
    "df['FuelType'].isna().sum()\n"
   ]
  },
  {
   "cell_type": "code",
   "execution_count": 39,
   "metadata": {},
   "outputs": [
    {
     "data": {
      "text/plain": [
       "DateCrawled              0\n",
       "Price                    0\n",
       "VehicleType              0\n",
       "RegistrationYear         0\n",
       "Gearbox              19833\n",
       "Power                    0\n",
       "Model                    0\n",
       "Kilometer                0\n",
       "RegistrationMonth        0\n",
       "FuelType                 0\n",
       "Brand                    0\n",
       "Repaired             71154\n",
       "DateCreated              0\n",
       "NumberOfPictures         0\n",
       "PostalCode               0\n",
       "LastSeen                 0\n",
       "dtype: int64"
      ]
     },
     "execution_count": 39,
     "metadata": {},
     "output_type": "execute_result"
    }
   ],
   "source": [
    "df.isna().sum()"
   ]
  },
  {
   "cell_type": "markdown",
   "metadata": {},
   "source": [
    "### Gearbox"
   ]
  },
  {
   "cell_type": "code",
   "execution_count": 40,
   "metadata": {},
   "outputs": [
    {
     "data": {
      "text/plain": [
       "'5.6%'"
      ]
     },
     "execution_count": 40,
     "metadata": {},
     "output_type": "execute_result"
    }
   ],
   "source": [
    "print_per_na('Gearbox')"
   ]
  },
  {
   "cell_type": "code",
   "execution_count": 41,
   "metadata": {},
   "outputs": [
    {
     "data": {
      "text/plain": [
       "Gearbox\n",
       "manual    268251\n",
       "auto       66285\n",
       "Name: Gearbox, dtype: int64"
      ]
     },
     "execution_count": 41,
     "metadata": {},
     "output_type": "execute_result"
    }
   ],
   "source": [
    "df.groupby('Gearbox')['Gearbox'].count().sort_values(ascending=False)"
   ]
  },
  {
   "cell_type": "markdown",
   "metadata": {},
   "source": [
    "The percentage of missing values from the entire dataset is slightly more than five percent. No implicit duplicates found. Let's highlight the signs that can fill in the missing values:\n",
    "- Model\n",
    "- RegistrationYear\n",
    "- FuelType\n",
    "- Power"
   ]
  },
  {
   "cell_type": "code",
   "execution_count": 42,
   "metadata": {},
   "outputs": [
    {
     "name": "stdout",
     "output_type": "stream",
     "text": [
      "(334536, 4)\n",
      "(19833, 4)\n",
      "(334536,)\n",
      "(19833,)\n"
     ]
    }
   ],
   "source": [
    "features_train_gb, features_test_gb, target_train_gb, target_test_gb = prepare_data(['Model', 'RegistrationYear', 'FuelType', 'Power'], 'Gearbox')\n",
    "print(features_train_gb.shape)\n",
    "print(features_test_gb.shape)\n",
    "print(target_train_gb.shape)\n",
    "print(target_test_gb.shape)\n"
   ]
  },
  {
   "cell_type": "markdown",
   "metadata": {},
   "source": [
    "We solve the classification problem and choose the best quality model"
   ]
  },
  {
   "cell_type": "code",
   "execution_count": 43,
   "metadata": {},
   "outputs": [
    {
     "data": {
      "text/plain": [
       "0.8524284422731621"
      ]
     },
     "execution_count": 43,
     "metadata": {},
     "output_type": "execute_result"
    }
   ],
   "source": [
    "model_tree_gb = DecisionTreeClassifier(random_state=12345, max_depth=500, min_samples_leaf=500)\n",
    "scores_gb = cross_val_score(model_tree_gb, features_train_gb, target_train_gb, cv=5)\n",
    "final_score_gb = sum(scores_gb) / len(scores_gb)\n",
    "final_score_gb"
   ]
  },
  {
   "cell_type": "code",
   "execution_count": 44,
   "metadata": {},
   "outputs": [
    {
     "data": {
      "text/plain": [
       "0.8532833571216571"
      ]
     },
     "execution_count": 44,
     "metadata": {},
     "output_type": "execute_result"
    }
   ],
   "source": [
    "model_forest_gb = RandomForestClassifier(random_state=12345, n_estimators=160, max_depth=300, min_samples_leaf=500)\n",
    "scores_gb = cross_val_score(model_forest_gb, features_train_gb, target_train_gb, cv=5)\n",
    "final_score_gb = sum(scores_gb) / len(scores_gb)\n",
    "final_score_gb"
   ]
  },
  {
   "cell_type": "markdown",
   "metadata": {},
   "source": [
    "The highest quality model is RandomForestClassifier. Let's fill in the blanks"
   ]
  },
  {
   "cell_type": "code",
   "execution_count": 45,
   "metadata": {},
   "outputs": [],
   "source": [
    "model_forest_gb.fit(features_train_gb, target_train_gb)\n",
    "target_predict_gb = model_forest_gb.predict(features_test_gb)"
   ]
  },
  {
   "cell_type": "markdown",
   "metadata": {},
   "source": [
    "Let's fill in the missing values of the feature and attach it to our dataset"
   ]
  },
  {
   "cell_type": "code",
   "execution_count": 46,
   "metadata": {},
   "outputs": [
    {
     "data": {
      "text/plain": [
       "0"
      ]
     },
     "execution_count": 46,
     "metadata": {},
     "output_type": "execute_result"
    }
   ],
   "source": [
    "df['Gearbox'] = join_predictions(features_train_gb, target_train_gb, features_test_gb, target_predict_gb, 'Gearbox')\n",
    "df['Gearbox'].isna().sum()\n"
   ]
  },
  {
   "cell_type": "markdown",
   "metadata": {},
   "source": [
    "### Repaired"
   ]
  },
  {
   "cell_type": "code",
   "execution_count": 47,
   "metadata": {},
   "outputs": [
    {
     "data": {
      "text/plain": [
       "'20.08%'"
      ]
     },
     "execution_count": 47,
     "metadata": {},
     "output_type": "execute_result"
    }
   ],
   "source": [
    "print_per_na('Repaired')"
   ]
  },
  {
   "cell_type": "code",
   "execution_count": 48,
   "metadata": {},
   "outputs": [
    {
     "data": {
      "text/plain": [
       "Repaired\n",
       "no     247161\n",
       "yes     36054\n",
       "Name: Repaired, dtype: int64"
      ]
     },
     "execution_count": 48,
     "metadata": {},
     "output_type": "execute_result"
    }
   ],
   "source": [
    "df.groupby('Repaired')['Repaired'].count().sort_values(ascending=False)"
   ]
  },
  {
   "cell_type": "markdown",
   "metadata": {},
   "source": [
    "The share of missing values from the entire dataset is slightly more than twenty percent. No implicit duplicates found. Let's highlight the signs that can fill in the missing values:\n",
    "- Kilometer\n",
    "- RegistrationYear\n",
    "- Model"
   ]
  },
  {
   "cell_type": "code",
   "execution_count": 49,
   "metadata": {
    "scrolled": true
   },
   "outputs": [
    {
     "data": {
      "text/html": [
       "<div>\n",
       "<style scoped>\n",
       "    .dataframe tbody tr th:only-of-type {\n",
       "        vertical-align: middle;\n",
       "    }\n",
       "\n",
       "    .dataframe tbody tr th {\n",
       "        vertical-align: top;\n",
       "    }\n",
       "\n",
       "    .dataframe thead tr th {\n",
       "        text-align: left;\n",
       "    }\n",
       "\n",
       "    .dataframe thead tr:last-of-type th {\n",
       "        text-align: right;\n",
       "    }\n",
       "</style>\n",
       "<table border=\"1\" class=\"dataframe\">\n",
       "  <thead>\n",
       "    <tr>\n",
       "      <th></th>\n",
       "      <th>mean</th>\n",
       "    </tr>\n",
       "    <tr>\n",
       "      <th></th>\n",
       "      <th>Kilometer</th>\n",
       "    </tr>\n",
       "    <tr>\n",
       "      <th>Repaired</th>\n",
       "      <th></th>\n",
       "    </tr>\n",
       "  </thead>\n",
       "  <tbody>\n",
       "    <tr>\n",
       "      <th>no</th>\n",
       "      <td>126395.588301</td>\n",
       "    </tr>\n",
       "    <tr>\n",
       "      <th>yes</th>\n",
       "      <td>136178.093970</td>\n",
       "    </tr>\n",
       "  </tbody>\n",
       "</table>\n",
       "</div>"
      ],
      "text/plain": [
       "                   mean\n",
       "              Kilometer\n",
       "Repaired               \n",
       "no        126395.588301\n",
       "yes       136178.093970"
      ]
     },
     "execution_count": 49,
     "metadata": {},
     "output_type": "execute_result"
    }
   ],
   "source": [
    "df.pivot_table(index=['Repaired'], values='Kilometer', aggfunc=['mean'])"
   ]
  },
  {
   "cell_type": "code",
   "execution_count": 50,
   "metadata": {},
   "outputs": [
    {
     "name": "stdout",
     "output_type": "stream",
     "text": [
      "(283215, 3)\n",
      "(71154, 3)\n",
      "(283215,)\n",
      "(71154,)\n"
     ]
    }
   ],
   "source": [
    "features_train_rep, features_test_rep, target_train_rep, target_test_rep = prepare_data(['Kilometer', 'RegistrationYear', 'Model'], 'Repaired')\n",
    "print(features_train_rep.shape)\n",
    "print(features_test_rep.shape)\n",
    "print(target_train_rep.shape)\n",
    "print(target_test_rep.shape)\n"
   ]
  },
  {
   "cell_type": "markdown",
   "metadata": {},
   "source": [
    "We solve the classification problem and choose the best quality model"
   ]
  },
  {
   "cell_type": "code",
   "execution_count": 51,
   "metadata": {},
   "outputs": [
    {
     "data": {
      "text/plain": [
       "0.8726974206874637"
      ]
     },
     "execution_count": 51,
     "metadata": {},
     "output_type": "execute_result"
    }
   ],
   "source": [
    "model_tree_rep = DecisionTreeClassifier(random_state=12345, max_depth=500, min_samples_leaf=500)\n",
    "scores_rep = cross_val_score(model_tree_rep, features_train_rep, target_train_rep, cv=5)\n",
    "final_score_rep = sum(scores_rep) / len(scores_rep)\n",
    "final_score_rep"
   ]
  },
  {
   "cell_type": "code",
   "execution_count": 52,
   "metadata": {},
   "outputs": [
    {
     "data": {
      "text/plain": [
       "0.8726974206874637"
      ]
     },
     "execution_count": 52,
     "metadata": {},
     "output_type": "execute_result"
    }
   ],
   "source": [
    "model_forest_rep = RandomForestClassifier(random_state=12345, n_estimators=160, max_depth=300, min_samples_leaf=500)\n",
    "scores_rep = cross_val_score(model_forest_rep, features_train_rep, target_train_rep, cv=5)\n",
    "final_score_rep = sum(scores_rep) / len(scores_rep)\n",
    "final_score_rep"
   ]
  },
  {
   "cell_type": "markdown",
   "metadata": {},
   "source": [
    "Both models are of good quality. Let's fill in the blanks"
   ]
  },
  {
   "cell_type": "code",
   "execution_count": 53,
   "metadata": {},
   "outputs": [],
   "source": [
    "model_tree_rep.fit(features_train_rep, target_train_rep)\n",
    "target_predict_rep = model_tree_rep.predict(features_test_rep)"
   ]
  },
  {
   "cell_type": "markdown",
   "metadata": {},
   "source": [
    "Let's fill in the missing values of the feature and attach it to our dataset"
   ]
  },
  {
   "cell_type": "code",
   "execution_count": 54,
   "metadata": {},
   "outputs": [
    {
     "data": {
      "text/plain": [
       "0"
      ]
     },
     "execution_count": 54,
     "metadata": {},
     "output_type": "execute_result"
    }
   ],
   "source": [
    "df['Repaired'] = join_predictions(features_train_rep, target_train_rep, features_test_rep, target_predict_rep, 'Repaired')\n",
    "df['Repaired'].isna().sum()\n"
   ]
  },
  {
   "cell_type": "markdown",
   "metadata": {},
   "source": [
    "Check the dataset for missing values"
   ]
  },
  {
   "cell_type": "code",
   "execution_count": 55,
   "metadata": {},
   "outputs": [
    {
     "data": {
      "text/plain": [
       "DateCrawled          0\n",
       "Price                0\n",
       "VehicleType          0\n",
       "RegistrationYear     0\n",
       "Gearbox              0\n",
       "Power                0\n",
       "Model                0\n",
       "Kilometer            0\n",
       "RegistrationMonth    0\n",
       "FuelType             0\n",
       "Brand                0\n",
       "Repaired             0\n",
       "DateCreated          0\n",
       "NumberOfPictures     0\n",
       "PostalCode           0\n",
       "LastSeen             0\n",
       "dtype: int64"
      ]
     },
     "execution_count": 55,
     "metadata": {},
     "output_type": "execute_result"
    }
   ],
   "source": [
    "df.isna().sum()"
   ]
  },
  {
   "cell_type": "markdown",
   "metadata": {},
   "source": [
    "All missing values are filled using ML classification models. This made it possible to avoid deleting part of the data and reducing the dataset."
   ]
  },
  {
   "cell_type": "markdown",
   "metadata": {},
   "source": [
    "### Removing non-informative features"
   ]
  },
  {
   "cell_type": "markdown",
   "metadata": {},
   "source": [
    "Remove the following features:\n",
    "- DateCrawled (server info)\n",
    "- DateCreated (server info)\n",
    "- LastSeen (server info)\n",
    "- RegistrationMonth (the most important attribute of RegistrationYear)\n",
    "- PostalCode (does not affect the cost of the car)\n",
    "- NumberOfPictures (feature has only zero value - not informative)"
   ]
  },
  {
   "cell_type": "markdown",
   "metadata": {},
   "source": [
    "**DateCrawled**"
   ]
  },
  {
   "cell_type": "code",
   "execution_count": 56,
   "metadata": {},
   "outputs": [],
   "source": [
    "df = df.drop(['DateCrawled'], axis=1)"
   ]
  },
  {
   "cell_type": "markdown",
   "metadata": {},
   "source": [
    "**LastSeen**"
   ]
  },
  {
   "cell_type": "code",
   "execution_count": 57,
   "metadata": {},
   "outputs": [],
   "source": [
    "df = df.drop(['LastSeen'], axis=1)"
   ]
  },
  {
   "cell_type": "markdown",
   "metadata": {},
   "source": [
    "**RegistrationMonth**"
   ]
  },
  {
   "cell_type": "code",
   "execution_count": 58,
   "metadata": {},
   "outputs": [
    {
     "data": {
      "text/html": [
       "<div>\n",
       "<style scoped>\n",
       "    .dataframe tbody tr th:only-of-type {\n",
       "        vertical-align: middle;\n",
       "    }\n",
       "\n",
       "    .dataframe tbody tr th {\n",
       "        vertical-align: top;\n",
       "    }\n",
       "\n",
       "    .dataframe thead tr th {\n",
       "        text-align: left;\n",
       "    }\n",
       "\n",
       "    .dataframe thead tr:last-of-type th {\n",
       "        text-align: right;\n",
       "    }\n",
       "</style>\n",
       "<table border=\"1\" class=\"dataframe\">\n",
       "  <thead>\n",
       "    <tr>\n",
       "      <th></th>\n",
       "      <th>mean</th>\n",
       "    </tr>\n",
       "    <tr>\n",
       "      <th></th>\n",
       "      <th>Price</th>\n",
       "    </tr>\n",
       "    <tr>\n",
       "      <th>RegistrationMonth</th>\n",
       "      <th></th>\n",
       "    </tr>\n",
       "  </thead>\n",
       "  <tbody>\n",
       "    <tr>\n",
       "      <th>0</th>\n",
       "      <td>1907.968757</td>\n",
       "    </tr>\n",
       "    <tr>\n",
       "      <th>1</th>\n",
       "      <td>4670.885783</td>\n",
       "    </tr>\n",
       "    <tr>\n",
       "      <th>2</th>\n",
       "      <td>4581.080218</td>\n",
       "    </tr>\n",
       "    <tr>\n",
       "      <th>3</th>\n",
       "      <td>4585.424228</td>\n",
       "    </tr>\n",
       "    <tr>\n",
       "      <th>4</th>\n",
       "      <td>4744.656577</td>\n",
       "    </tr>\n",
       "    <tr>\n",
       "      <th>5</th>\n",
       "      <td>4623.699345</td>\n",
       "    </tr>\n",
       "    <tr>\n",
       "      <th>6</th>\n",
       "      <td>4706.366859</td>\n",
       "    </tr>\n",
       "    <tr>\n",
       "      <th>7</th>\n",
       "      <td>4798.471944</td>\n",
       "    </tr>\n",
       "    <tr>\n",
       "      <th>8</th>\n",
       "      <td>4665.058691</td>\n",
       "    </tr>\n",
       "    <tr>\n",
       "      <th>9</th>\n",
       "      <td>4874.961660</td>\n",
       "    </tr>\n",
       "    <tr>\n",
       "      <th>10</th>\n",
       "      <td>4806.705008</td>\n",
       "    </tr>\n",
       "    <tr>\n",
       "      <th>11</th>\n",
       "      <td>4904.757422</td>\n",
       "    </tr>\n",
       "    <tr>\n",
       "      <th>12</th>\n",
       "      <td>4615.490469</td>\n",
       "    </tr>\n",
       "  </tbody>\n",
       "</table>\n",
       "</div>"
      ],
      "text/plain": [
       "                          mean\n",
       "                         Price\n",
       "RegistrationMonth             \n",
       "0                  1907.968757\n",
       "1                  4670.885783\n",
       "2                  4581.080218\n",
       "3                  4585.424228\n",
       "4                  4744.656577\n",
       "5                  4623.699345\n",
       "6                  4706.366859\n",
       "7                  4798.471944\n",
       "8                  4665.058691\n",
       "9                  4874.961660\n",
       "10                 4806.705008\n",
       "11                 4904.757422\n",
       "12                 4615.490469"
      ]
     },
     "execution_count": 58,
     "metadata": {},
     "output_type": "execute_result"
    }
   ],
   "source": [
    "df.pivot_table(index=['RegistrationMonth'], values='Price', aggfunc=['mean'])"
   ]
  },
  {
   "cell_type": "code",
   "execution_count": 59,
   "metadata": {},
   "outputs": [],
   "source": [
    "df = df.drop(['RegistrationMonth'], axis=1)"
   ]
  },
  {
   "cell_type": "markdown",
   "metadata": {},
   "source": [
    "**Conclusion:** The average cost of a car practically does not depend on the month of its registration. However, there is an anomalous value of 0, which most likely indicates the presence of a gap. Feature can be removed"
   ]
  },
  {
   "cell_type": "markdown",
   "metadata": {},
   "source": [
    "**PostalCode**"
   ]
  },
  {
   "cell_type": "code",
   "execution_count": 60,
   "metadata": {},
   "outputs": [
    {
     "data": {
      "text/html": [
       "<div>\n",
       "<style scoped>\n",
       "    .dataframe tbody tr th:only-of-type {\n",
       "        vertical-align: middle;\n",
       "    }\n",
       "\n",
       "    .dataframe tbody tr th {\n",
       "        vertical-align: top;\n",
       "    }\n",
       "\n",
       "    .dataframe thead tr th {\n",
       "        text-align: left;\n",
       "    }\n",
       "\n",
       "    .dataframe thead tr:last-of-type th {\n",
       "        text-align: right;\n",
       "    }\n",
       "</style>\n",
       "<table border=\"1\" class=\"dataframe\">\n",
       "  <thead>\n",
       "    <tr>\n",
       "      <th></th>\n",
       "      <th>mean</th>\n",
       "      <th>count</th>\n",
       "    </tr>\n",
       "    <tr>\n",
       "      <th></th>\n",
       "      <th>Price</th>\n",
       "      <th>Price</th>\n",
       "    </tr>\n",
       "    <tr>\n",
       "      <th>cat_post</th>\n",
       "      <th></th>\n",
       "      <th></th>\n",
       "    </tr>\n",
       "  </thead>\n",
       "  <tbody>\n",
       "    <tr>\n",
       "      <th>1</th>\n",
       "      <td>4087.786794</td>\n",
       "      <td>27532</td>\n",
       "    </tr>\n",
       "    <tr>\n",
       "      <th>2</th>\n",
       "      <td>4034.304689</td>\n",
       "      <td>42614</td>\n",
       "    </tr>\n",
       "    <tr>\n",
       "      <th>3</th>\n",
       "      <td>4273.798095</td>\n",
       "      <td>43565</td>\n",
       "    </tr>\n",
       "    <tr>\n",
       "      <th>4</th>\n",
       "      <td>4151.110569</td>\n",
       "      <td>49164</td>\n",
       "    </tr>\n",
       "    <tr>\n",
       "      <th>5</th>\n",
       "      <td>4358.233280</td>\n",
       "      <td>46682</td>\n",
       "    </tr>\n",
       "    <tr>\n",
       "      <th>6</th>\n",
       "      <td>4718.694822</td>\n",
       "      <td>35150</td>\n",
       "    </tr>\n",
       "    <tr>\n",
       "      <th>7</th>\n",
       "      <td>4892.637644</td>\n",
       "      <td>31676</td>\n",
       "    </tr>\n",
       "    <tr>\n",
       "      <th>8</th>\n",
       "      <td>5200.453034</td>\n",
       "      <td>32055</td>\n",
       "    </tr>\n",
       "    <tr>\n",
       "      <th>9</th>\n",
       "      <td>4775.231096</td>\n",
       "      <td>27772</td>\n",
       "    </tr>\n",
       "    <tr>\n",
       "      <th>other</th>\n",
       "      <td>3677.494686</td>\n",
       "      <td>18159</td>\n",
       "    </tr>\n",
       "  </tbody>\n",
       "</table>\n",
       "</div>"
      ],
      "text/plain": [
       "                 mean  count\n",
       "                Price  Price\n",
       "cat_post                    \n",
       "1         4087.786794  27532\n",
       "2         4034.304689  42614\n",
       "3         4273.798095  43565\n",
       "4         4151.110569  49164\n",
       "5         4358.233280  46682\n",
       "6         4718.694822  35150\n",
       "7         4892.637644  31676\n",
       "8         5200.453034  32055\n",
       "9         4775.231096  27772\n",
       "other     3677.494686  18159"
      ]
     },
     "execution_count": 60,
     "metadata": {},
     "output_type": "execute_result"
    }
   ],
   "source": [
    "def cat_pc(row):\n",
    "    post_code = row['PostalCode']\n",
    "    if post_code > 9999 and post_code < 20000:\n",
    "        return 1\n",
    "    elif post_code > 19999 and post_code < 30000:\n",
    "        return 2\n",
    "    elif post_code > 29999 and post_code < 40000:\n",
    "        return 3\n",
    "    elif post_code > 39999 and post_code < 50000:\n",
    "        return 4\n",
    "    elif post_code > 49999 and post_code < 60000:\n",
    "        return 5\n",
    "    elif post_code > 59999 and post_code < 70000:\n",
    "        return 6\n",
    "    elif post_code > 69999 and post_code < 80000:\n",
    "        return 7\n",
    "    elif post_code > 79999 and post_code < 90000:\n",
    "        return 8\n",
    "    elif post_code > 89999 and post_code < 100000:\n",
    "        return 9\n",
    "    else:\n",
    "        return 'other'\n",
    "    \n",
    "df['cat_post'] = df.apply(cat_pc, axis=1)\n",
    "df.pivot_table(index=['cat_post'], values='Price', aggfunc=['mean', 'count'])"
   ]
  },
  {
   "cell_type": "code",
   "execution_count": 61,
   "metadata": {},
   "outputs": [],
   "source": [
    "df = df.drop(['cat_post'], axis=1)\n",
    "df = df.drop(['PostalCode'], axis=1)"
   ]
  },
  {
   "cell_type": "markdown",
   "metadata": {},
   "source": [
    "**Conclusion:** In the code above, we created groups of zip codes, after which we concluded that the average price is distributed evenly among the created classes (deviations are compensated by the average of the other group). Let's remove this feature, as well as the auxiliary column \"cat_post\""
   ]
  },
  {
   "cell_type": "markdown",
   "metadata": {},
   "source": [
    "**NumberOfPictures**"
   ]
  },
  {
   "cell_type": "code",
   "execution_count": 62,
   "metadata": {},
   "outputs": [],
   "source": [
    "df = df.drop(['NumberOfPictures'], axis=1)"
   ]
  },
  {
   "cell_type": "markdown",
   "metadata": {},
   "source": [
    "**Conclusion:** The feature is removed due to its lack of information"
   ]
  },
  {
   "cell_type": "markdown",
   "metadata": {},
   "source": [
    "In total, there are 10 features left in our dataset"
   ]
  },
  {
   "cell_type": "code",
   "execution_count": 63,
   "metadata": {},
   "outputs": [
    {
     "name": "stdout",
     "output_type": "stream",
     "text": [
      "<class 'pandas.core.frame.DataFrame'>\n",
      "RangeIndex: 354369 entries, 0 to 354368\n",
      "Data columns (total 11 columns):\n",
      " #   Column            Non-Null Count   Dtype \n",
      "---  ------            --------------   ----- \n",
      " 0   Price             354369 non-null  int64 \n",
      " 1   VehicleType       354369 non-null  object\n",
      " 2   RegistrationYear  354369 non-null  int64 \n",
      " 3   Gearbox           354369 non-null  object\n",
      " 4   Power             354369 non-null  int64 \n",
      " 5   Model             354369 non-null  object\n",
      " 6   Kilometer         354369 non-null  int64 \n",
      " 7   FuelType          354369 non-null  object\n",
      " 8   Brand             354369 non-null  object\n",
      " 9   Repaired          354369 non-null  object\n",
      " 10  DateCreated       354369 non-null  object\n",
      "dtypes: int64(4), object(7)\n",
      "memory usage: 29.7+ MB\n"
     ]
    }
   ],
   "source": [
    "df.info()"
   ]
  },
  {
   "cell_type": "markdown",
   "metadata": {},
   "source": [
    "### Handling anomalous values"
   ]
  },
  {
   "cell_type": "markdown",
   "metadata": {},
   "source": [
    "In the beginning, we will study all the numerical features:\n",
    "- Price\n",
    "- RegistrationYear\n",
    "- Power\n",
    "- Kilometer \\\n",
    "Remove outliers, change data type (if necessary)"
   ]
  },
  {
   "cell_type": "markdown",
   "metadata": {},
   "source": [
    "Then we will study all categorical features:\n",
    "- VehicleType\n",
    "- Gearbox\n",
    "- Model\n",
    "- FuelType\n",
    "- Brand\n",
    "- Repaired \\\n",
    "Remove implicit duplicates, change data type (if necessary)"
   ]
  },
  {
   "cell_type": "markdown",
   "metadata": {},
   "source": [
    "### Initializing useful functions"
   ]
  },
  {
   "cell_type": "markdown",
   "metadata": {},
   "source": [
    "**Calculation of the right and left whiskers**"
   ]
  },
  {
   "cell_type": "code",
   "execution_count": 64,
   "metadata": {},
   "outputs": [],
   "source": [
    "def right_whisker(data, column):\n",
    "    quant1 = data[column].quantile(0.25)\n",
    "    quant3 = data[column].quantile(0.75)\n",
    "    IQR = quant3 - quant1\n",
    "    right_whisker = quant3 + 1.5 * IQR\n",
    "    return right_whisker\n",
    "\n",
    "def left_whisker(data, column):\n",
    "    quant1 = data[column].quantile(0.25)\n",
    "    quant3 = data[column].quantile(0.75)\n",
    "    IQR = quant3 - quant1\n",
    "    left_whisker = quant1 - 1.5 * IQR\n",
    "    return left_whisker"
   ]
  },
  {
   "cell_type": "markdown",
   "metadata": {},
   "source": [
    "### Price"
   ]
  },
  {
   "cell_type": "code",
   "execution_count": 65,
   "metadata": {
    "scrolled": true
   },
   "outputs": [
    {
     "data": {
      "image/png": "[encoded data removed]",
      "text/plain": [
       "<Figure size 640x480 with 1 Axes>"
      ]
     },
     "metadata": {},
     "output_type": "display_data"
    }
   ],
   "source": [
    "plt.hist(df['Price'], bins=100)\n",
    "plt.show()"
   ]
  },
  {
   "cell_type": "code",
   "execution_count": 66,
   "metadata": {},
   "outputs": [
    {
     "data": {
      "text/plain": [
       "count    354369.000000\n",
       "mean       4416.656776\n",
       "std        4514.158514\n",
       "min           0.000000\n",
       "25%        1050.000000\n",
       "50%        2700.000000\n",
       "75%        6400.000000\n",
       "max       20000.000000\n",
       "Name: Price, dtype: float64"
      ]
     },
     "execution_count": 66,
     "metadata": {},
     "output_type": "execute_result"
    }
   ],
   "source": [
    "df['Price'].describe()"
   ]
  },
  {
   "cell_type": "code",
   "execution_count": 67,
   "metadata": {},
   "outputs": [
    {
     "data": {
      "text/plain": [
       "5.355716781095412"
      ]
     },
     "execution_count": 67,
     "metadata": {},
     "output_type": "execute_result"
    }
   ],
   "source": [
    "len(df[df['Price'] > right_whisker(df, 'Price')]) / len(df) * 100"
   ]
  },
  {
   "cell_type": "code",
   "execution_count": 68,
   "metadata": {},
   "outputs": [
    {
     "data": {
      "text/plain": [
       "3.0397692800442475"
      ]
     },
     "execution_count": 68,
     "metadata": {},
     "output_type": "execute_result"
    }
   ],
   "source": [
    "df[df['Price'] == 0]['Price'].count() / df.shape[0] * 100"
   ]
  },
  {
   "cell_type": "code",
   "execution_count": 69,
   "metadata": {},
   "outputs": [],
   "source": [
    "df = df[df['Price'] > 0]"
   ]
  },
  {
   "cell_type": "code",
   "execution_count": 70,
   "metadata": {
    "scrolled": true
   },
   "outputs": [],
   "source": [
    "df['Price'] = df['Price'].astype('int32')"
   ]
  },
  {
   "cell_type": "markdown",
   "metadata": {},
   "source": [
    "**Conclusion:** The data of the attribute is skewed to the left - there are much more cheap cars. The spread of values is only 5.35%, which does not require removal on the right. However, 3% of the data has Price = 0, which is noise. We removed these objects, since there are not too many of them, and they can significantly affect predictions. We also changed the data type to int32"
   ]
  },
  {
   "cell_type": "markdown",
   "metadata": {},
   "source": [
    "### RegistrationYear"
   ]
  },
  {
   "cell_type": "code",
   "execution_count": 71,
   "metadata": {},
   "outputs": [],
   "source": [
    "MAX_YEAR = max(pd.DatetimeIndex(df['DateCreated']).year)"
   ]
  },
  {
   "cell_type": "code",
   "execution_count": 72,
   "metadata": {},
   "outputs": [
    {
     "data": {
      "text/plain": [
       "array([1993, 2011, 2004, 2001, 2008, 1995, 2014, 1998, 2005, 1910, 2016,\n",
       "       2007, 2009, 2002, 2018, 1997, 1990, 2017, 1981, 2003, 1994, 1991,\n",
       "       1984, 2006, 1999, 2012, 2010, 2000, 1992, 2013, 1996, 1985, 1989,\n",
       "       2015, 1982, 1976, 1983, 1973, 1969, 1971, 1987, 1986, 1988, 1980,\n",
       "       1970, 1965, 1945, 1925, 1974, 1979, 1955, 1978, 1972, 1968, 1977,\n",
       "       1961, 1966, 1975, 1963, 1964, 1960, 5000, 1958, 1967, 1959, 1956,\n",
       "       3200, 1000, 1941, 9999, 8888, 1500, 2200, 4100, 1962, 1929, 1957,\n",
       "       1940, 3000, 2066, 1949, 2019, 1937, 1951, 1800, 1953, 1954, 1234,\n",
       "       8000, 5300, 9000, 2900, 6000, 5900, 5911, 1400, 1950, 4000, 1948,\n",
       "       1952, 8500, 1932, 1255, 3700, 3800, 4800, 1942, 7000, 1935, 1933,\n",
       "       1936, 6500, 1923, 2290, 1930, 1001, 9450, 1944, 2500, 1943, 1934,\n",
       "       1938, 1928, 5555, 5600, 1600, 1111, 2222, 1039, 1300, 2800, 1931,\n",
       "       4500, 1602, 7800, 1947, 1927, 7100, 8200, 1946])"
      ]
     },
     "execution_count": 72,
     "metadata": {},
     "output_type": "execute_result"
    }
   ],
   "source": [
    "df['RegistrationYear'].unique()"
   ]
  },
  {
   "cell_type": "code",
   "execution_count": 73,
   "metadata": {},
   "outputs": [
    {
     "data": {
      "text/plain": [
       "13832"
      ]
     },
     "execution_count": 73,
     "metadata": {},
     "output_type": "execute_result"
    }
   ],
   "source": [
    "df[(df['RegistrationYear'] < 1900) | (df['RegistrationYear'] > MAX_YEAR)]['RegistrationYear'].count()"
   ]
  },
  {
   "cell_type": "code",
   "execution_count": 74,
   "metadata": {},
   "outputs": [
    {
     "data": {
      "text/plain": [
       "array([1993, 2011, 2004, 2001, 2008, 1995, 2014, 1998, 2005, 1910, 2016,\n",
       "       2007, 2009, 2002, 1997, 1990, 1981, 2003, 1994, 1991, 1984, 2006,\n",
       "       1999, 2012, 2010, 2000, 1992, 2013, 1996, 1985, 1989, 2015, 1982,\n",
       "       1976, 1983, 1973, 1969, 1971, 1987, 1986, 1988, 1980, 1970, 1965,\n",
       "       1945, 1925, 1974, 1979, 1955, 1978, 1972, 1968, 1977, 1961, 1966,\n",
       "       1975, 1963, 1964, 1960, 1958, 1967, 1959, 1956, 1941, 1962, 1929,\n",
       "       1957, 1940, 1949, 1937, 1951, 1953, 1954, 1950, 1948, 1952, 1932,\n",
       "       1942, 1935, 1933, 1936, 1923, 1930, 1944, 1943, 1934, 1938, 1928,\n",
       "       1931, 1947, 1927, 1946])"
      ]
     },
     "execution_count": 74,
     "metadata": {},
     "output_type": "execute_result"
    }
   ],
   "source": [
    "df = df[(df['RegistrationYear'] >= 1900) & (df['RegistrationYear'] <= MAX_YEAR)]\n",
    "df['RegistrationYear'].unique()"
   ]
  },
  {
   "cell_type": "code",
   "execution_count": 75,
   "metadata": {},
   "outputs": [],
   "source": [
    "df['RegistrationYear'] = df['RegistrationYear'].astype('int32')"
   ]
  },
  {
   "cell_type": "markdown",
   "metadata": {},
   "source": [
    "**Conclusion:** The feature mimics a numeric feature but is categorical with an int type, so we changed the data type to int32 to optimize memory. We removed anomalous values (car registration cannot be in the distant past or future), as there were not many such data"
   ]
  },
  {
   "cell_type": "markdown",
   "metadata": {},
   "source": [
    "**Now let's remove the DateCreated feature**"
   ]
  },
  {
   "cell_type": "code",
   "execution_count": 76,
   "metadata": {},
   "outputs": [],
   "source": [
    "df = df.drop(['DateCreated'], axis=1)"
   ]
  },
  {
   "cell_type": "markdown",
   "metadata": {},
   "source": [
    "### Power"
   ]
  },
  {
   "cell_type": "code",
   "execution_count": 77,
   "metadata": {
    "scrolled": true
   },
   "outputs": [
    {
     "data": {
      "image/png": "[encoded data removed]",
      "text/plain": [
       "<Figure size 640x480 with 1 Axes>"
      ]
     },
     "metadata": {},
     "output_type": "display_data"
    }
   ],
   "source": [
    "plt.hist(df['Power'], bins=100, range=(0, 200))\n",
    "plt.show()"
   ]
  },
  {
   "cell_type": "code",
   "execution_count": 78,
   "metadata": {},
   "outputs": [
    {
     "data": {
      "text/plain": [
       "count    329765.000000\n",
       "mean        111.902179\n",
       "std         184.849228\n",
       "min           0.000000\n",
       "25%          71.000000\n",
       "50%         105.000000\n",
       "75%         143.000000\n",
       "max       20000.000000\n",
       "Name: Power, dtype: float64"
      ]
     },
     "execution_count": 78,
     "metadata": {},
     "output_type": "execute_result"
    }
   ],
   "source": [
    "df['Power'].describe()"
   ]
  },
  {
   "cell_type": "code",
   "execution_count": 79,
   "metadata": {},
   "outputs": [
    {
     "data": {
      "text/plain": [
       "2.1357633466256276"
      ]
     },
     "execution_count": 79,
     "metadata": {},
     "output_type": "execute_result"
    }
   ],
   "source": [
    "len(df[df['Power'] > right_whisker(df, 'Power')]) / len(df) * 100"
   ]
  },
  {
   "cell_type": "code",
   "execution_count": 80,
   "metadata": {},
   "outputs": [
    {
     "data": {
      "text/plain": [
       "173"
      ]
     },
     "execution_count": 80,
     "metadata": {},
     "output_type": "execute_result"
    }
   ],
   "source": [
    "df[df['Power'] > 1500]['Power'].count()"
   ]
  },
  {
   "cell_type": "code",
   "execution_count": 81,
   "metadata": {},
   "outputs": [],
   "source": [
    "df = df[df['Power'] <= 1500]"
   ]
  },
  {
   "cell_type": "code",
   "execution_count": 82,
   "metadata": {},
   "outputs": [
    {
     "data": {
      "text/plain": [
       "32866"
      ]
     },
     "execution_count": 82,
     "metadata": {},
     "output_type": "execute_result"
    }
   ],
   "source": [
    "df[df['Power'] == 0]['Power'].count()"
   ]
  },
  {
   "cell_type": "markdown",
   "metadata": {},
   "source": [
    "**Conclusion:** We removed the anomalous values from above, there were not many of them (185), we also changed the data type to int32. However, a lot of data with a value of 0 was found, which indicates the presence of implicit gaps. You need to fill them"
   ]
  },
  {
   "cell_type": "markdown",
   "metadata": {},
   "source": [
    "Replace zero values with missing ones - NaN"
   ]
  },
  {
   "cell_type": "code",
   "execution_count": 83,
   "metadata": {},
   "outputs": [],
   "source": [
    "df['Power'].replace(0, np.nan, inplace=True)"
   ]
  },
  {
   "cell_type": "markdown",
   "metadata": {},
   "source": [
    "Fill in the gaps using a Linear Regression model. Add all the features to the training sample"
   ]
  },
  {
   "cell_type": "code",
   "execution_count": 84,
   "metadata": {},
   "outputs": [
    {
     "name": "stdout",
     "output_type": "stream",
     "text": [
      "(296726, 9)\n",
      "(32866, 9)\n",
      "(296726,)\n",
      "(32866,)\n"
     ]
    }
   ],
   "source": [
    "features_train_p, features_test_p, target_train_p, target_test_p = prepare_data(['Price', 'VehicleType', 'RegistrationYear', 'Gearbox', 'Model', 'Kilometer', 'FuelType', 'Brand', 'Repaired'], 'Power')\n",
    "print(features_train_p.shape)\n",
    "print(features_test_p.shape)\n",
    "print(target_train_p.shape)\n",
    "print(target_test_p.shape)\n"
   ]
  },
  {
   "cell_type": "code",
   "execution_count": 85,
   "metadata": {},
   "outputs": [
    {
     "data": {
      "text/plain": [
       "0.4211655025262992"
      ]
     },
     "execution_count": 85,
     "metadata": {},
     "output_type": "execute_result"
    }
   ],
   "source": [
    "model_regressor_p = LinearRegression()\n",
    "scores_p = cross_val_score(model_regressor_p, features_train_p, target_train_p, cv=5)\n",
    "final_score_p = sum(scores_p) / len(scores_p)\n",
    "final_score_p"
   ]
  },
  {
   "cell_type": "code",
   "execution_count": 86,
   "metadata": {},
   "outputs": [
    {
     "data": {
      "text/plain": [
       "0"
      ]
     },
     "execution_count": 86,
     "metadata": {},
     "output_type": "execute_result"
    }
   ],
   "source": [
    "model_regressor_p.fit(features_train_p, target_train_p)\n",
    "target_predict_p = model_regressor_p.predict(features_test_p)\n",
    "df['Power'] = join_predictions(features_train_p, target_train_p, features_test_p, target_predict_p, 'Power')\n",
    "df['Power'].isna().sum()\n",
    "\n"
   ]
  },
  {
   "cell_type": "code",
   "execution_count": 87,
   "metadata": {},
   "outputs": [],
   "source": [
    "df['Power'] = df['Power'].astype('int32')"
   ]
  },
  {
   "cell_type": "markdown",
   "metadata": {},
   "source": [
    "### Kilometer"
   ]
  },
  {
   "cell_type": "code",
   "execution_count": 88,
   "metadata": {},
   "outputs": [
    {
     "data": {
      "text/plain": [
       "count    329592.000000\n",
       "mean     128207.389742\n",
       "std       37520.160113\n",
       "min        5000.000000\n",
       "25%      125000.000000\n",
       "50%      150000.000000\n",
       "75%      150000.000000\n",
       "max      150000.000000\n",
       "Name: Kilometer, dtype: float64"
      ]
     },
     "execution_count": 88,
     "metadata": {},
     "output_type": "execute_result"
    }
   ],
   "source": [
    "df['Kilometer'].describe()"
   ]
  },
  {
   "cell_type": "code",
   "execution_count": 89,
   "metadata": {},
   "outputs": [
    {
     "data": {
      "image/png": "[encoded data removed]",
      "text/plain": [
       "<Figure size 640x480 with 1 Axes>"
      ]
     },
     "metadata": {},
     "output_type": "display_data"
    }
   ],
   "source": [
    "plt.hist(df['Kilometer'], bins=100)\n",
    "plt.show()"
   ]
  },
  {
   "cell_type": "code",
   "execution_count": 90,
   "metadata": {},
   "outputs": [
    {
     "data": {
      "text/plain": [
       "array([150000, 125000,  90000,  30000,  70000,   5000, 100000,  60000,\n",
       "        20000,  80000,  50000,  40000,  10000])"
      ]
     },
     "execution_count": 90,
     "metadata": {},
     "output_type": "execute_result"
    }
   ],
   "source": [
    "df['Kilometer'].unique()"
   ]
  },
  {
   "cell_type": "code",
   "execution_count": 91,
   "metadata": {},
   "outputs": [],
   "source": [
    "df['Kilometer'] = df['Kilometer'].astype('int32')"
   ]
  },
  {
   "cell_type": "markdown",
   "metadata": {},
   "source": [
    "**Conclusion:** No anomalous values were found in the feature, the data mimics numerical values. Also changed the data type to int32"
   ]
  },
  {
   "cell_type": "markdown",
   "metadata": {},
   "source": [
    "### VehicleType"
   ]
  },
  {
   "cell_type": "code",
   "execution_count": 92,
   "metadata": {},
   "outputs": [
    {
     "data": {
      "text/plain": [
       "array(['small', 'coupe', 'suv', 'sedan', 'convertible', 'bus', 'wagon',\n",
       "       'other'], dtype=object)"
      ]
     },
     "execution_count": 92,
     "metadata": {},
     "output_type": "execute_result"
    }
   ],
   "source": [
    "df['VehicleType'].unique()"
   ]
  },
  {
   "cell_type": "markdown",
   "metadata": {},
   "source": [
    "### Gearbox"
   ]
  },
  {
   "cell_type": "code",
   "execution_count": 93,
   "metadata": {},
   "outputs": [
    {
     "data": {
      "text/plain": [
       "array(['manual', 'auto'], dtype=object)"
      ]
     },
     "execution_count": 93,
     "metadata": {},
     "output_type": "execute_result"
    }
   ],
   "source": [
    "df['Gearbox'].unique()"
   ]
  },
  {
   "cell_type": "markdown",
   "metadata": {},
   "source": [
    "### FuelType"
   ]
  },
  {
   "cell_type": "code",
   "execution_count": 94,
   "metadata": {
    "scrolled": false
   },
   "outputs": [
    {
     "data": {
      "text/plain": [
       "array(['petrol', 'gasoline', 'lpg', 'other', 'hybrid', 'cng', 'electric'],\n",
       "      dtype=object)"
      ]
     },
     "execution_count": 94,
     "metadata": {},
     "output_type": "execute_result"
    }
   ],
   "source": [
    "df['FuelType'].unique()"
   ]
  },
  {
   "cell_type": "markdown",
   "metadata": {},
   "source": [
    "### Repaired"
   ]
  },
  {
   "cell_type": "code",
   "execution_count": 95,
   "metadata": {},
   "outputs": [
    {
     "data": {
      "text/plain": [
       "array(['no', 'yes'], dtype=object)"
      ]
     },
     "execution_count": 95,
     "metadata": {},
     "output_type": "execute_result"
    }
   ],
   "source": [
    "df['Repaired'].unique()"
   ]
  },
  {
   "cell_type": "code",
   "execution_count": 96,
   "metadata": {},
   "outputs": [
    {
     "data": {
      "text/plain": [
       "array([0, 1], dtype=object)"
      ]
     },
     "execution_count": 96,
     "metadata": {},
     "output_type": "execute_result"
    }
   ],
   "source": [
    "df.loc[df['Repaired'] == 'no', 'Repaired'] = 0\n",
    "df.loc[df['Repaired'] == 'yes', 'Repaired'] = 1\n",
    "df['Repaired'].unique()"
   ]
  },
  {
   "cell_type": "code",
   "execution_count": 97,
   "metadata": {},
   "outputs": [],
   "source": [
    "df['Repaired'] = df['Repaired'].astype('bool')"
   ]
  },
  {
   "cell_type": "markdown",
   "metadata": {},
   "source": [
    "### Brand"
   ]
  },
  {
   "cell_type": "code",
   "execution_count": 98,
   "metadata": {},
   "outputs": [
    {
     "data": {
      "text/plain": [
       "array(['volkswagen', 'audi', 'jeep', 'skoda', 'bmw', 'peugeot', 'ford',\n",
       "       'mazda', 'nissan', 'renault', 'mercedes_benz', 'seat', 'honda',\n",
       "       'fiat', 'opel', 'mini', 'smart', 'hyundai', 'sonstige_autos',\n",
       "       'alfa_romeo', 'subaru', 'volvo', 'mitsubishi', 'kia', 'suzuki',\n",
       "       'lancia', 'citroen', 'toyota', 'chevrolet', 'dacia', 'daihatsu',\n",
       "       'trabant', 'chrysler', 'jaguar', 'daewoo', 'porsche', 'rover',\n",
       "       'saab', 'land_rover', 'lada'], dtype=object)"
      ]
     },
     "execution_count": 98,
     "metadata": {},
     "output_type": "execute_result"
    }
   ],
   "source": [
    "df['Brand'].unique()"
   ]
  },
  {
   "cell_type": "markdown",
   "metadata": {},
   "source": [
    "### Model"
   ]
  },
  {
   "cell_type": "code",
   "execution_count": 99,
   "metadata": {
    "scrolled": true
   },
   "outputs": [
    {
     "data": {
      "text/plain": [
       "array(['golf', 'tt', 'grand', 'fabia', '3er', '2_reihe', 'c_max',\n",
       "       '3_reihe', 'passat', 'navara', 'ka', 'polo', 'twingo', 'a_klasse',\n",
       "       'scirocco', '5er', 'arosa', 'other', 'civic', 'transporter',\n",
       "       'punto', 'e_klasse', 'clio', 'kadett', 'kangoo', 'one', 'fortwo',\n",
       "       '1er', 'b_klasse', 'signum', 'astra', 'impreza', 'a8', 'jetta',\n",
       "       'fiesta', 'c_klasse', 'micra', 'vito', 'sprinter', '156', 'escort',\n",
       "       'forester', 'xc_reihe', 'scenic', 'a4', 'a1', 'insignia', 'combo',\n",
       "       'focus', 'corsa', 'a6', 'jazz', 'omega', 'slk', '7er', '80', '147',\n",
       "       '100', 'z_reihe', 'sorento', '850', 'v40', 'ibiza', 'mustang',\n",
       "       'eos', 'touran', 'getz', 'a3', 'almera', 'megane', 'lupo', 'r19',\n",
       "       'caddy', 'mondeo', 'cordoba', 'colt', 'vectra', 'berlingo',\n",
       "       'tiguan', 'sharan', '6_reihe', 'c4', 'panda', 'up', 'i_reihe',\n",
       "       'ceed', '5_reihe', 'yeti', 'octavia', 'zafira', 'mii', 'rx_reihe',\n",
       "       '1_reihe', '6er', 'modus', 'fox', 'matiz', 'beetle', 'c1', 'rio',\n",
       "       'touareg', 'logan', 'spider', 'cuore', 's_max', 'a2', 'galaxy',\n",
       "       'c3', 'viano', 's_klasse', 'avensis', 'roomster', 'sl', 'kaefer',\n",
       "       'santa', 'cooper', 'leon', '4_reihe', 'a5', 'sportage', 'laguna',\n",
       "       'ptcruiser', 'clk', 'primera', 'espace', 'x_reihe', 'exeo', '159',\n",
       "       'transit', 'juke', 'qashqai', 'carisma', 'accord', 'corolla',\n",
       "       'lanos', 'phaeton', 'verso', 'swift', 'rav', 'picanto', 'boxster',\n",
       "       'kalos', 'superb', 'stilo', 'alhambra', 'mx_reihe', 'roadster',\n",
       "       'ypsilon', 'cayenne', 'galant', 'justy', '90', 'sirion',\n",
       "       'crossfire', 'agila', 'duster', 'v50', '500', 'meriva', 'c_reihe',\n",
       "       'v_klasse', 'm_klasse', 'yaris', 'c5', 'aygo', 'seicento', 'cc',\n",
       "       'carnival', 'fusion', '911', 'bora', 'forfour', 'cl', 'tigra',\n",
       "       '300c', 'cr_reihe', 'spark', 'v70', 'kuga', 'x_type', 'ducato',\n",
       "       's_type', 'x_trail', 'toledo', 'altea', 'voyager', 'calibra',\n",
       "       'bravo', 'antara', 'tucson', 'citigo', 'jimny', 'wrangler',\n",
       "       'lybra', 'q7', 'lancer', 'captiva', 'discovery', 'freelander',\n",
       "       'sandero', 'note', '900', 'cherokee', 'clubman', 'samara',\n",
       "       'defender', 'cx_reihe', 'legacy', 'pajero', 'auris', 'c2', 'niva',\n",
       "       's60', 'm_reihe', 'nubira', 'vivaro', 'g_klasse', 'lodgy',\n",
       "       'range_rover', '601', 'q3', 'serie_2', 'glk', 'charade', 'croma',\n",
       "       'outlander', 'doblo', 'musa', 'move', '9000', 'v60', '145', '200',\n",
       "       'b_max', 'range_rover_sport', 'aveo', 'terios', 'rangerover', 'q5',\n",
       "       'range_rover_evoque', 'materia', 'delta', 'gl', 'kalina',\n",
       "       'elefantino', 'i3', 'amarok', 'kappa', 'serie_3', 'serie_1'],\n",
       "      dtype=object)"
      ]
     },
     "execution_count": 99,
     "metadata": {},
     "output_type": "execute_result"
    }
   ],
   "source": [
    "df['Model'].unique()"
   ]
  },
  {
   "cell_type": "markdown",
   "metadata": {},
   "source": [
    "### Датасет после предобрабоки"
   ]
  },
  {
   "cell_type": "code",
   "execution_count": 100,
   "metadata": {},
   "outputs": [
    {
     "name": "stdout",
     "output_type": "stream",
     "text": [
      "<class 'pandas.core.frame.DataFrame'>\n",
      "Int64Index: 329592 entries, 0 to 354368\n",
      "Data columns (total 10 columns):\n",
      " #   Column            Non-Null Count   Dtype \n",
      "---  ------            --------------   ----- \n",
      " 0   Price             329592 non-null  int32 \n",
      " 1   VehicleType       329592 non-null  object\n",
      " 2   RegistrationYear  329592 non-null  int32 \n",
      " 3   Gearbox           329592 non-null  object\n",
      " 4   Power             329592 non-null  int32 \n",
      " 5   Model             329592 non-null  object\n",
      " 6   Kilometer         329592 non-null  int32 \n",
      " 7   FuelType          329592 non-null  object\n",
      " 8   Brand             329592 non-null  object\n",
      " 9   Repaired          329592 non-null  bool  \n",
      "dtypes: bool(1), int32(4), object(5)\n",
      "memory usage: 20.4+ MB\n"
     ]
    }
   ],
   "source": [
    "df.info()"
   ]
  },
  {
   "cell_type": "code",
   "execution_count": 101,
   "metadata": {
    "scrolled": true
   },
   "outputs": [
    {
     "data": {
      "text/html": [
       "<div>\n",
       "<style scoped>\n",
       "    .dataframe tbody tr th:only-of-type {\n",
       "        vertical-align: middle;\n",
       "    }\n",
       "\n",
       "    .dataframe tbody tr th {\n",
       "        vertical-align: top;\n",
       "    }\n",
       "\n",
       "    .dataframe thead th {\n",
       "        text-align: right;\n",
       "    }\n",
       "</style>\n",
       "<table border=\"1\" class=\"dataframe\">\n",
       "  <thead>\n",
       "    <tr style=\"text-align: right;\">\n",
       "      <th></th>\n",
       "      <th>Price</th>\n",
       "      <th>VehicleType</th>\n",
       "      <th>RegistrationYear</th>\n",
       "      <th>Gearbox</th>\n",
       "      <th>Power</th>\n",
       "      <th>Model</th>\n",
       "      <th>Kilometer</th>\n",
       "      <th>FuelType</th>\n",
       "      <th>Brand</th>\n",
       "      <th>Repaired</th>\n",
       "    </tr>\n",
       "  </thead>\n",
       "  <tbody>\n",
       "    <tr>\n",
       "      <th>0</th>\n",
       "      <td>480</td>\n",
       "      <td>small</td>\n",
       "      <td>1993</td>\n",
       "      <td>manual</td>\n",
       "      <td>76</td>\n",
       "      <td>golf</td>\n",
       "      <td>150000</td>\n",
       "      <td>petrol</td>\n",
       "      <td>volkswagen</td>\n",
       "      <td>False</td>\n",
       "    </tr>\n",
       "    <tr>\n",
       "      <th>1</th>\n",
       "      <td>18300</td>\n",
       "      <td>coupe</td>\n",
       "      <td>2011</td>\n",
       "      <td>manual</td>\n",
       "      <td>190</td>\n",
       "      <td>tt</td>\n",
       "      <td>125000</td>\n",
       "      <td>gasoline</td>\n",
       "      <td>audi</td>\n",
       "      <td>True</td>\n",
       "    </tr>\n",
       "    <tr>\n",
       "      <th>2</th>\n",
       "      <td>9800</td>\n",
       "      <td>suv</td>\n",
       "      <td>2004</td>\n",
       "      <td>auto</td>\n",
       "      <td>163</td>\n",
       "      <td>grand</td>\n",
       "      <td>125000</td>\n",
       "      <td>gasoline</td>\n",
       "      <td>jeep</td>\n",
       "      <td>False</td>\n",
       "    </tr>\n",
       "    <tr>\n",
       "      <th>3</th>\n",
       "      <td>1500</td>\n",
       "      <td>small</td>\n",
       "      <td>2001</td>\n",
       "      <td>manual</td>\n",
       "      <td>75</td>\n",
       "      <td>golf</td>\n",
       "      <td>150000</td>\n",
       "      <td>petrol</td>\n",
       "      <td>volkswagen</td>\n",
       "      <td>False</td>\n",
       "    </tr>\n",
       "    <tr>\n",
       "      <th>4</th>\n",
       "      <td>3600</td>\n",
       "      <td>small</td>\n",
       "      <td>2008</td>\n",
       "      <td>manual</td>\n",
       "      <td>69</td>\n",
       "      <td>fabia</td>\n",
       "      <td>90000</td>\n",
       "      <td>gasoline</td>\n",
       "      <td>skoda</td>\n",
       "      <td>False</td>\n",
       "    </tr>\n",
       "  </tbody>\n",
       "</table>\n",
       "</div>"
      ],
      "text/plain": [
       "   Price VehicleType  RegistrationYear Gearbox  Power  Model  Kilometer  \\\n",
       "0    480       small              1993  manual     76   golf     150000   \n",
       "1  18300       coupe              2011  manual    190     tt     125000   \n",
       "2   9800         suv              2004    auto    163  grand     125000   \n",
       "3   1500       small              2001  manual     75   golf     150000   \n",
       "4   3600       small              2008  manual     69  fabia      90000   \n",
       "\n",
       "   FuelType       Brand  Repaired  \n",
       "0    petrol  volkswagen     False  \n",
       "1  gasoline        audi      True  \n",
       "2  gasoline        jeep     False  \n",
       "3    petrol  volkswagen     False  \n",
       "4  gasoline       skoda     False  "
      ]
     },
     "execution_count": 101,
     "metadata": {},
     "output_type": "execute_result"
    }
   ],
   "source": [
    "df.head()"
   ]
  },
  {
   "cell_type": "markdown",
   "metadata": {},
   "source": [
    "**Conclusion:** The dataset size in terms of memory size has been halved from +40 MB to 20.4 MB. The number of features was reduced to 10, and all missing values were also removed. Implicit duplicates were found in the Power attribute, which could be related to the fact that an interface error was made in the frontend development - you can specify a zero value in the Power field. No significant outliers were found in the data: the amount of data in the right whisker of all features does not exceed 5 percent."
   ]
  },
  {
   "cell_type": "markdown",
   "metadata": {},
   "source": [
    "## Model trainning"
   ]
  },
  {
   "cell_type": "markdown",
   "metadata": {},
   "source": [
    "### Preparing Samples for Model Training"
   ]
  },
  {
   "cell_type": "code",
   "execution_count": 102,
   "metadata": {},
   "outputs": [],
   "source": [
    "features = df.drop('Price', axis=1)\n",
    "target = df['Price']"
   ]
  },
  {
   "cell_type": "code",
   "execution_count": 103,
   "metadata": {},
   "outputs": [
    {
     "name": "stdout",
     "output_type": "stream",
     "text": [
      "(247194, 9)\n",
      "(82398, 9)\n",
      "(247194,)\n",
      "(82398,)\n"
     ]
    }
   ],
   "source": [
    "features_train, features_test, target_train, target_test = train_test_split(features, target, test_size=0.25, random_state=12345)\n",
    "\n",
    "print(features_train.shape)\n",
    "print(features_test.shape)\n",
    "print(target_train.shape)\n",
    "print(target_test.shape)"
   ]
  },
  {
   "cell_type": "code",
   "execution_count": 104,
   "metadata": {
    "scrolled": true
   },
   "outputs": [
    {
     "data": {
      "text/plain": [
       "['VehicleType', 'Gearbox', 'Model', 'FuelType', 'Brand', 'Repaired']"
      ]
     },
     "execution_count": 104,
     "metadata": {},
     "output_type": "execute_result"
    }
   ],
   "source": [
    "str_columns = []\n",
    "for col in features_train.columns:\n",
    "    if df[col].dtype != 'int32':\n",
    "        str_columns.append(col)\n",
    "        \n",
    "str_columns"
   ]
  },
  {
   "cell_type": "markdown",
   "metadata": {},
   "source": [
    "**Encoding categorical meanings**"
   ]
  },
  {
   "cell_type": "code",
   "execution_count": 105,
   "metadata": {
    "scrolled": true
   },
   "outputs": [],
   "source": [
    "encoder = TargetEncoder(cols=str_columns)\n",
    "encoder.fit(features_train, target_train)\n",
    "train_encoder = encoder.transform(features_train, target_train)\n",
    "test_encoder = encoder.transform(features_test, target_test)"
   ]
  },
  {
   "cell_type": "markdown",
   "metadata": {},
   "source": [
    "### Using models from sklearn"
   ]
  },
  {
   "cell_type": "markdown",
   "metadata": {},
   "source": [
    "**Useful Functions**"
   ]
  },
  {
   "cell_type": "code",
   "execution_count": 106,
   "metadata": {},
   "outputs": [],
   "source": [
    "def get_best_score(model, features, targer):\n",
    "    scores = cross_val_score(model, features, targer, cv=7, scoring='neg_mean_squared_error')\n",
    "    best_score = sum(list((-1 * np.array(scores)) ** 0.5)) / len(list((-1 * np.array(scores)) ** 0.5)) \n",
    "    return round(best_score, 2)"
   ]
  },
  {
   "cell_type": "markdown",
   "metadata": {},
   "source": [
    "**LinearRegression**"
   ]
  },
  {
   "cell_type": "markdown",
   "metadata": {},
   "source": [
    "Since TargetEncoder is not suitable for linear regression, we use OneHotEncoder"
   ]
  },
  {
   "cell_type": "code",
   "execution_count": 107,
   "metadata": {},
   "outputs": [
    {
     "name": "stdout",
     "output_type": "stream",
     "text": [
      "(247194, 306)\n",
      "(82398, 306)\n"
     ]
    }
   ],
   "source": [
    "features_ohe = pd.get_dummies(features, columns=str_columns, drop_first=True)\n",
    "train_ohe, test_ohe = train_test_split(features_ohe, test_size=0.25, random_state=12345)\n",
    "print(train_ohe.shape)\n",
    "print(test_ohe.shape)"
   ]
  },
  {
   "cell_type": "markdown",
   "metadata": {},
   "source": [
    "Scale numeric features"
   ]
  },
  {
   "cell_type": "code",
   "execution_count": 108,
   "metadata": {},
   "outputs": [
    {
     "name": "stdout",
     "output_type": "stream",
     "text": [
      "(247194, 306)\n",
      "(82398, 306)\n"
     ]
    }
   ],
   "source": [
    "numeric = ['Kilometer', 'RegistrationYear', 'Power']\n",
    "scaler = StandardScaler()\n",
    "scaler.fit(features_train[numeric])\n",
    "\n",
    "train_ohe[numeric] = scaler.transform(features_train[numeric])\n",
    "test_ohe[numeric] = scaler.transform(features_test[numeric])\n",
    "\n",
    "print(train_ohe.shape)\n",
    "print(test_ohe.shape)"
   ]
  },
  {
   "cell_type": "code",
   "execution_count": 109,
   "metadata": {},
   "outputs": [
    {
     "name": "stdout",
     "output_type": "stream",
     "text": [
      "Time of train model 3.82 sec\n",
      "Time of proccessing 0.15 sec\n"
     ]
    }
   ],
   "source": [
    "model_regression = LinearRegression()\n",
    "\n",
    "start_time_fit = timeit.default_timer()\n",
    "model_regression.fit(train_ohe, target_train)\n",
    "elapsed_fit = timeit.default_timer() - start_time_fit\n",
    "\n",
    "start_time_predict = timeit.default_timer()\n",
    "predictions = model_regression.predict(train_ohe)\n",
    "elapsed_predict = timeit.default_timer() - start_time_predict\n",
    "\n",
    "print(f'Time of train model {round(elapsed_fit, 2)} sec')\n",
    "print(f'Time of proccessing {round(elapsed_predict, 2)} sec')"
   ]
  },
  {
   "cell_type": "markdown",
   "metadata": {},
   "source": [
    "Evaluate the quality of the model by RMSE"
   ]
  },
  {
   "cell_type": "code",
   "execution_count": 110,
   "metadata": {},
   "outputs": [
    {
     "data": {
      "text/plain": [
       "2760.21"
      ]
     },
     "execution_count": 110,
     "metadata": {},
     "output_type": "execute_result"
    }
   ],
   "source": [
    "get_best_score(model_regression, train_ohe, target_train)"
   ]
  },
  {
   "cell_type": "markdown",
   "metadata": {},
   "source": [
    "**DecisionTreeRegressor**"
   ]
  },
  {
   "cell_type": "code",
   "execution_count": 111,
   "metadata": {},
   "outputs": [],
   "source": [
    "PARAMS_TREE = {\n",
    "    'max_depth': range(1, 80, 5)\n",
    "}"
   ]
  },
  {
   "cell_type": "code",
   "execution_count": 112,
   "metadata": {},
   "outputs": [
    {
     "name": "stdout",
     "output_type": "stream",
     "text": [
      "{'max_depth': 16}\n"
     ]
    }
   ],
   "source": [
    "model_tree = DecisionTreeRegressor(random_state=12345)\n",
    "grid = GridSearchCV(model_tree, PARAMS_TREE, cv=5, scoring='neg_mean_squared_error')\n",
    "grid.fit(train_encoder, target_train)\n",
    "\n",
    "rmse = (-1 * grid.best_score_) ** 0.5\n",
    "\n",
    "print(grid.best_params_)"
   ]
  },
  {
   "cell_type": "code",
   "execution_count": 113,
   "metadata": {
    "scrolled": true
   },
   "outputs": [
    {
     "name": "stdout",
     "output_type": "stream",
     "text": [
      "Time of train model 0.43 sec\n",
      "Time of proccessing 0.03 sec\n"
     ]
    }
   ],
   "source": [
    "model_tree = DecisionTreeRegressor(random_state=12345, max_depth=16)\n",
    "\n",
    "start_time_fit = timeit.default_timer()\n",
    "model_tree.fit(train_encoder, target_train)\n",
    "elapsed_fit = timeit.default_timer() - start_time_fit\n",
    "\n",
    "start_time_predict = timeit.default_timer()\n",
    "predictions = model_tree.predict(train_encoder)\n",
    "elapsed_predict = timeit.default_timer() - start_time_predict\n",
    "\n",
    "print(f'Time of train model {round(elapsed_fit, 2)} sec')\n",
    "print(f'Time of proccessing {round(elapsed_predict, 2)} sec')"
   ]
  },
  {
   "cell_type": "markdown",
   "metadata": {},
   "source": [
    "Evaluate the quality of the model by RMSE"
   ]
  },
  {
   "cell_type": "code",
   "execution_count": 114,
   "metadata": {},
   "outputs": [
    {
     "data": {
      "text/plain": [
       "1855.49"
      ]
     },
     "execution_count": 114,
     "metadata": {},
     "output_type": "execute_result"
    }
   ],
   "source": [
    "get_best_score(model_tree, train_encoder, target_train)"
   ]
  },
  {
   "cell_type": "markdown",
   "metadata": {},
   "source": [
    "**Conclusion:** DecisionTreeRegressor - A model that could potentially be the best model for a given task. However, it is necessary to experiment with other models"
   ]
  },
  {
   "cell_type": "markdown",
   "metadata": {},
   "source": [
    "### Using models from LightGBM without boosting"
   ]
  },
  {
   "cell_type": "code",
   "execution_count": 115,
   "metadata": {},
   "outputs": [
    {
     "name": "stdout",
     "output_type": "stream",
     "text": [
      "Time of train model 0.37 sec\n",
      "Time of proccessing 0.21 sec\n"
     ]
    }
   ],
   "source": [
    "model_reg = lgb.LGBMRegressor(boosting_type=None, max_depth=40, n_estimators=100, random_state=627361)\n",
    "\n",
    "start_time_fit = timeit.default_timer()\n",
    "model_reg.fit(train_encoder, target_train)\n",
    "elapsed_fit = timeit.default_timer() - start_time_fit\n",
    "\n",
    "start_time_predict = timeit.default_timer()\n",
    "predictions = model_reg.predict(train_encoder)\n",
    "elapsed_predict = timeit.default_timer() - start_time_predict\n",
    "\n",
    "print(f'Time of train model {round(elapsed_fit, 2)} sec')\n",
    "print(f'Time of proccessing {round(elapsed_predict, 2)} sec')"
   ]
  },
  {
   "cell_type": "markdown",
   "metadata": {},
   "source": [
    "Evaluate the quality of the model by RMSE"
   ]
  },
  {
   "cell_type": "code",
   "execution_count": 116,
   "metadata": {},
   "outputs": [
    {
     "data": {
      "text/plain": [
       "1705.76"
      ]
     },
     "execution_count": 116,
     "metadata": {},
     "output_type": "execute_result"
    }
   ],
   "source": [
    "get_best_score(model_reg, train_encoder, target_train)"
   ]
  },
  {
   "cell_type": "markdown",
   "metadata": {},
   "source": [
    "**Conclusion:** We trained a model from the LightGBM library. The advantages over sklearn are as follows: RMSE is in the range (1700, 2000), which is approximately equal to the **Random Tree model**, but the learning rate was ~0.5"
   ]
  },
  {
   "cell_type": "markdown",
   "metadata": {},
   "source": [
    "### Building a Boosted Model"
   ]
  },
  {
   "cell_type": "markdown",
   "metadata": {},
   "source": [
    "**dart**"
   ]
  },
  {
   "cell_type": "code",
   "execution_count": 117,
   "metadata": {
    "scrolled": true
   },
   "outputs": [
    {
     "name": "stdout",
     "output_type": "stream",
     "text": [
      "Time of train model 6.0 sec\n",
      "Time of proccessing 0.4 sec\n"
     ]
    }
   ],
   "source": [
    "model_lgb_dart = lgb.LGBMRegressor(boosting_type='dart', max_depth=60, n_estimators=200, random_state=627361)\n",
    "\n",
    "start_time_fit = timeit.default_timer()\n",
    "model_lgb_dart.fit(train_encoder, target_train)\n",
    "elapsed_fit = timeit.default_timer() - start_time_fit\n",
    "\n",
    "start_time_predict = timeit.default_timer()\n",
    "predictions = model_lgb_dart.predict(train_encoder)\n",
    "elapsed_predict = timeit.default_timer() - start_time_predict\n",
    "\n",
    "print(f'Time of train model {round(elapsed_fit, 2)} sec')\n",
    "print(f'Time of proccessing {round(elapsed_predict, 2)} sec')"
   ]
  },
  {
   "cell_type": "markdown",
   "metadata": {},
   "source": [
    "Evaluate the quality of the model by RMSE"
   ]
  },
  {
   "cell_type": "code",
   "execution_count": 118,
   "metadata": {},
   "outputs": [
    {
     "data": {
      "text/plain": [
       "1805.81"
      ]
     },
     "execution_count": 118,
     "metadata": {},
     "output_type": "execute_result"
    }
   ],
   "source": [
    "get_best_score(model_lgb_dart, train_encoder, target_train)"
   ]
  },
  {
   "cell_type": "markdown",
   "metadata": {},
   "source": [
    "**gbdt**"
   ]
  },
  {
   "cell_type": "code",
   "execution_count": 119,
   "metadata": {},
   "outputs": [
    {
     "name": "stdout",
     "output_type": "stream",
     "text": [
      "Time of train model 0.43 sec\n",
      "Time of proccessing 0.21 sec\n"
     ]
    }
   ],
   "source": [
    "model_lgb_gbdt = lgb.LGBMRegressor(boosting_type='gbdt',max_depth=60, random_state=627361)\n",
    "\n",
    "start_time_fit = timeit.default_timer()\n",
    "model_lgb_gbdt.fit(train_encoder, target_train)\n",
    "elapsed_fit = timeit.default_timer() - start_time_fit\n",
    "\n",
    "start_time_predict = timeit.default_timer()\n",
    "predictions = model_lgb_gbdt.predict(train_encoder)\n",
    "elapsed_predict = timeit.default_timer() - start_time_predict\n",
    "\n",
    "print(f'Time of train model {round(elapsed_fit, 2)} sec')\n",
    "print(f'Time of proccessing {round(elapsed_predict, 2)} sec')"
   ]
  },
  {
   "cell_type": "markdown",
   "metadata": {},
   "source": [
    "Evaluate the quality of the model by RMSE"
   ]
  },
  {
   "cell_type": "code",
   "execution_count": 120,
   "metadata": {},
   "outputs": [
    {
     "data": {
      "text/plain": [
       "1705.76"
      ]
     },
     "execution_count": 120,
     "metadata": {},
     "output_type": "execute_result"
    }
   ],
   "source": [
    "get_best_score(model_lgb_gbdt, train_encoder, target_train)"
   ]
  },
  {
   "cell_type": "markdown",
   "metadata": {},
   "source": [
    "## Model Analysis"
   ]
  },
  {
   "cell_type": "markdown",
   "metadata": {},
   "source": [
    "Training models of all possible models showed the following results:\n",
    "### sklearn library\n",
    "**LinearRegression** \\\n",
    "Training time: 3.73sec\\\n",
    "Prediction time: 0.18sec\\\n",
    "RMSE = 2760.21\n",
    "\\\n",
    "**DecisionTreeRegressor** \\\n",
    "Training time: 0.42sec\\\n",
    "Prediction Time: 0.03sec\\\n",
    "RMSE = 1855.49\n",
    "### LightGBM Library\n",
    "**No boosting** \\\n",
    "Training time: 0.38 s \\\n",
    "Prediction time = 0.22 s \\\n",
    "RMSE = 1705.76 \\\\\n",
    "\\\n",
    "**Boosting: dart** \\\n",
    "Training time: 5.77 s \\\n",
    "Prediction time = 0.39 s \\\n",
    "RMSE = 1805.81 \\\\\n",
    "\\\n",
    "**Boosting: gbdt** \\\n",
    "Training time: 0.36 s \\\n",
    "Prediction time = 0.21 s \\\n",
    "RMSE = 1705.76"
   ]
  },
  {
   "cell_type": "markdown",
   "metadata": {},
   "source": [
    "**Conclusion:** The best model regarding learning rate and metric is LGBMRegressor where max_depth = 60, boosting_type='gbdt'"
   ]
  },
  {
   "cell_type": "markdown",
   "metadata": {},
   "source": [
    "**Let's check the quality of the model on the test sample**"
   ]
  },
  {
   "cell_type": "code",
   "execution_count": 121,
   "metadata": {
    "scrolled": false
   },
   "outputs": [
    {
     "name": "stdout",
     "output_type": "stream",
     "text": [
      "RMSE = 1713.0566794522065\n",
      "Time of train model 0.35 sec\n",
      "Time of proccessing 0.07 sec\n"
     ]
    }
   ],
   "source": [
    "model_lgb_gbdt = lgb.LGBMRegressor(boosting_type='gbdt',max_depth=60, random_state=627361)\n",
    "\n",
    "start_time_fit = timeit.default_timer()\n",
    "model_lgb_gbdt.fit(train_encoder, target_train)\n",
    "elapsed_fit = timeit.default_timer() - start_time_fit\n",
    "\n",
    "start_time_predict = timeit.default_timer()\n",
    "predictions = model_lgb_gbdt.predict(test_encoder)\n",
    "elapsed_predict = timeit.default_timer() - start_time_predict\n",
    "\n",
    "rmse = mean_squared_error(target_test, predictions) ** 0.5\n",
    "\n",
    "print(f'RMSE = {rmse}')\n",
    "print(f'Time of train model {round(elapsed_fit, 2)} sec')\n",
    "print(f'Time of proccessing {round(elapsed_predict, 2)} sec')"
   ]
  },
  {
   "cell_type": "markdown",
   "metadata": {},
   "source": [
    "**Conclusion:** Metric, learning rate and prediction satisfies the task at hand"
   ]
  },
  {
   "cell_type": "code",
   "execution_count": null,
   "metadata": {},
   "outputs": [],
   "source": []
  }
 ],
 "metadata": {
  "ExecuteTimeLog": [
   {
    "duration": 3414,
    "start_time": "2023-06-07T08:52:57.895Z"
   },
   {
    "duration": 4114,
    "start_time": "2023-06-07T08:53:01.311Z"
   },
   {
    "duration": 3553,
    "start_time": "2023-06-07T08:53:05.427Z"
   },
   {
    "duration": 3543,
    "start_time": "2023-06-07T08:53:08.986Z"
   },
   {
    "duration": 2,
    "start_time": "2023-06-07T08:53:12.531Z"
   },
   {
    "duration": 3084,
    "start_time": "2023-06-07T08:53:12.534Z"
   },
   {
    "duration": 19,
    "start_time": "2023-06-07T08:53:15.621Z"
   },
   {
    "duration": 122,
    "start_time": "2023-06-07T08:53:15.642Z"
   },
   {
    "duration": 765,
    "start_time": "2023-06-07T08:53:15.766Z"
   },
   {
    "duration": 3,
    "start_time": "2023-06-07T08:53:16.533Z"
   },
   {
    "duration": 164,
    "start_time": "2023-06-07T08:53:16.538Z"
   },
   {
    "duration": 0,
    "start_time": "2023-06-07T08:53:16.791Z"
   },
   {
    "duration": 0,
    "start_time": "2023-06-07T08:53:16.793Z"
   },
   {
    "duration": 0,
    "start_time": "2023-06-07T08:53:16.794Z"
   },
   {
    "duration": 0,
    "start_time": "2023-06-07T08:53:16.795Z"
   },
   {
    "duration": 0,
    "start_time": "2023-06-07T08:53:16.797Z"
   },
   {
    "duration": 0,
    "start_time": "2023-06-07T08:53:16.798Z"
   },
   {
    "duration": 0,
    "start_time": "2023-06-07T08:53:16.799Z"
   },
   {
    "duration": 0,
    "start_time": "2023-06-07T08:53:16.800Z"
   },
   {
    "duration": 0,
    "start_time": "2023-06-07T08:53:16.801Z"
   },
   {
    "duration": 0,
    "start_time": "2023-06-07T08:53:16.802Z"
   },
   {
    "duration": 0,
    "start_time": "2023-06-07T08:53:16.803Z"
   },
   {
    "duration": 0,
    "start_time": "2023-06-07T08:53:16.804Z"
   },
   {
    "duration": 0,
    "start_time": "2023-06-07T08:53:16.805Z"
   },
   {
    "duration": 0,
    "start_time": "2023-06-07T08:53:16.806Z"
   },
   {
    "duration": 0,
    "start_time": "2023-06-07T08:53:16.807Z"
   },
   {
    "duration": 0,
    "start_time": "2023-06-07T08:53:16.808Z"
   },
   {
    "duration": 0,
    "start_time": "2023-06-07T08:53:16.809Z"
   },
   {
    "duration": 0,
    "start_time": "2023-06-07T08:53:16.810Z"
   },
   {
    "duration": 0,
    "start_time": "2023-06-07T08:53:16.811Z"
   },
   {
    "duration": 0,
    "start_time": "2023-06-07T08:53:16.812Z"
   },
   {
    "duration": 0,
    "start_time": "2023-06-07T08:53:16.813Z"
   },
   {
    "duration": 0,
    "start_time": "2023-06-07T08:53:16.814Z"
   },
   {
    "duration": 0,
    "start_time": "2023-06-07T08:53:16.814Z"
   },
   {
    "duration": 0,
    "start_time": "2023-06-07T08:53:16.815Z"
   },
   {
    "duration": 0,
    "start_time": "2023-06-07T08:53:16.816Z"
   },
   {
    "duration": 0,
    "start_time": "2023-06-07T08:53:16.818Z"
   },
   {
    "duration": 0,
    "start_time": "2023-06-07T08:53:16.818Z"
   },
   {
    "duration": 0,
    "start_time": "2023-06-07T08:53:16.819Z"
   },
   {
    "duration": 0,
    "start_time": "2023-06-07T08:53:16.820Z"
   },
   {
    "duration": 0,
    "start_time": "2023-06-07T08:53:16.821Z"
   },
   {
    "duration": 0,
    "start_time": "2023-06-07T08:53:16.822Z"
   },
   {
    "duration": 0,
    "start_time": "2023-06-07T08:53:16.823Z"
   },
   {
    "duration": 0,
    "start_time": "2023-06-07T08:53:16.824Z"
   },
   {
    "duration": 0,
    "start_time": "2023-06-07T08:53:16.825Z"
   },
   {
    "duration": 0,
    "start_time": "2023-06-07T08:53:16.883Z"
   },
   {
    "duration": 0,
    "start_time": "2023-06-07T08:53:16.885Z"
   },
   {
    "duration": 0,
    "start_time": "2023-06-07T08:53:16.887Z"
   },
   {
    "duration": 0,
    "start_time": "2023-06-07T08:53:16.888Z"
   },
   {
    "duration": 0,
    "start_time": "2023-06-07T08:53:16.889Z"
   },
   {
    "duration": 0,
    "start_time": "2023-06-07T08:53:16.890Z"
   },
   {
    "duration": 0,
    "start_time": "2023-06-07T08:53:16.891Z"
   },
   {
    "duration": 0,
    "start_time": "2023-06-07T08:53:16.898Z"
   },
   {
    "duration": 0,
    "start_time": "2023-06-07T08:53:16.899Z"
   },
   {
    "duration": 0,
    "start_time": "2023-06-07T08:53:16.900Z"
   },
   {
    "duration": 0,
    "start_time": "2023-06-07T08:53:16.901Z"
   },
   {
    "duration": 0,
    "start_time": "2023-06-07T08:53:16.902Z"
   },
   {
    "duration": 0,
    "start_time": "2023-06-07T08:53:16.903Z"
   },
   {
    "duration": 0,
    "start_time": "2023-06-07T08:53:16.904Z"
   },
   {
    "duration": 0,
    "start_time": "2023-06-07T08:53:16.905Z"
   },
   {
    "duration": 0,
    "start_time": "2023-06-07T08:53:16.906Z"
   },
   {
    "duration": 0,
    "start_time": "2023-06-07T08:53:16.907Z"
   },
   {
    "duration": 0,
    "start_time": "2023-06-07T08:53:16.909Z"
   },
   {
    "duration": 0,
    "start_time": "2023-06-07T08:53:16.910Z"
   },
   {
    "duration": 0,
    "start_time": "2023-06-07T08:53:16.910Z"
   },
   {
    "duration": 0,
    "start_time": "2023-06-07T08:53:16.911Z"
   },
   {
    "duration": 0,
    "start_time": "2023-06-07T08:53:16.912Z"
   },
   {
    "duration": 0,
    "start_time": "2023-06-07T08:53:16.913Z"
   },
   {
    "duration": 0,
    "start_time": "2023-06-07T08:53:16.914Z"
   },
   {
    "duration": 0,
    "start_time": "2023-06-07T08:53:16.915Z"
   },
   {
    "duration": 0,
    "start_time": "2023-06-07T08:53:16.916Z"
   },
   {
    "duration": 0,
    "start_time": "2023-06-07T08:53:16.917Z"
   },
   {
    "duration": 0,
    "start_time": "2023-06-07T08:53:16.918Z"
   },
   {
    "duration": 0,
    "start_time": "2023-06-07T08:53:16.919Z"
   },
   {
    "duration": 0,
    "start_time": "2023-06-07T08:53:16.920Z"
   },
   {
    "duration": 0,
    "start_time": "2023-06-07T08:53:16.921Z"
   },
   {
    "duration": 0,
    "start_time": "2023-06-07T08:53:16.922Z"
   },
   {
    "duration": 0,
    "start_time": "2023-06-07T08:53:16.923Z"
   },
   {
    "duration": 0,
    "start_time": "2023-06-07T08:53:16.924Z"
   },
   {
    "duration": 0,
    "start_time": "2023-06-07T08:53:16.977Z"
   },
   {
    "duration": 0,
    "start_time": "2023-06-07T08:53:16.978Z"
   },
   {
    "duration": 0,
    "start_time": "2023-06-07T08:53:16.979Z"
   },
   {
    "duration": 0,
    "start_time": "2023-06-07T08:53:16.980Z"
   },
   {
    "duration": 0,
    "start_time": "2023-06-07T08:53:16.981Z"
   },
   {
    "duration": 0,
    "start_time": "2023-06-07T08:53:16.981Z"
   },
   {
    "duration": 0,
    "start_time": "2023-06-07T08:53:16.982Z"
   },
   {
    "duration": 0,
    "start_time": "2023-06-07T08:53:16.983Z"
   },
   {
    "duration": 0,
    "start_time": "2023-06-07T08:53:16.983Z"
   },
   {
    "duration": 0,
    "start_time": "2023-06-07T08:53:16.984Z"
   },
   {
    "duration": 0,
    "start_time": "2023-06-07T08:53:16.985Z"
   },
   {
    "duration": 0,
    "start_time": "2023-06-07T08:53:16.985Z"
   },
   {
    "duration": 0,
    "start_time": "2023-06-07T08:53:16.986Z"
   },
   {
    "duration": 0,
    "start_time": "2023-06-07T08:53:16.986Z"
   },
   {
    "duration": 0,
    "start_time": "2023-06-07T08:53:16.992Z"
   },
   {
    "duration": 0,
    "start_time": "2023-06-07T08:53:16.992Z"
   },
   {
    "duration": 0,
    "start_time": "2023-06-07T08:53:16.993Z"
   },
   {
    "duration": 0,
    "start_time": "2023-06-07T08:53:16.995Z"
   },
   {
    "duration": 0,
    "start_time": "2023-06-07T08:53:16.996Z"
   },
   {
    "duration": 0,
    "start_time": "2023-06-07T08:53:16.997Z"
   },
   {
    "duration": 0,
    "start_time": "2023-06-07T08:53:16.998Z"
   },
   {
    "duration": 0,
    "start_time": "2023-06-07T08:53:16.999Z"
   },
   {
    "duration": 0,
    "start_time": "2023-06-07T08:53:17.000Z"
   },
   {
    "duration": 0,
    "start_time": "2023-06-07T08:53:17.001Z"
   },
   {
    "duration": 0,
    "start_time": "2023-06-07T08:53:17.002Z"
   },
   {
    "duration": 0,
    "start_time": "2023-06-07T08:53:17.003Z"
   },
   {
    "duration": 0,
    "start_time": "2023-06-07T08:53:17.004Z"
   },
   {
    "duration": 0,
    "start_time": "2023-06-07T08:53:17.005Z"
   },
   {
    "duration": 0,
    "start_time": "2023-06-07T08:53:17.006Z"
   },
   {
    "duration": 0,
    "start_time": "2023-06-07T08:53:17.007Z"
   },
   {
    "duration": 0,
    "start_time": "2023-06-07T08:53:17.007Z"
   },
   {
    "duration": 0,
    "start_time": "2023-06-07T08:53:17.008Z"
   },
   {
    "duration": 0,
    "start_time": "2023-06-07T08:53:17.010Z"
   },
   {
    "duration": 0,
    "start_time": "2023-06-07T08:53:17.011Z"
   },
   {
    "duration": 0,
    "start_time": "2023-06-07T08:53:17.012Z"
   },
   {
    "duration": 0,
    "start_time": "2023-06-07T08:53:17.013Z"
   },
   {
    "duration": 0,
    "start_time": "2023-06-07T08:53:17.014Z"
   },
   {
    "duration": 0,
    "start_time": "2023-06-07T08:53:17.014Z"
   },
   {
    "duration": 0,
    "start_time": "2023-06-07T08:53:17.015Z"
   },
   {
    "duration": 0,
    "start_time": "2023-06-07T08:53:17.016Z"
   },
   {
    "duration": 3234,
    "start_time": "2023-06-09T18:13:41.351Z"
   },
   {
    "duration": 2898,
    "start_time": "2023-06-09T18:13:44.588Z"
   },
   {
    "duration": 2385,
    "start_time": "2023-06-09T18:13:47.488Z"
   },
   {
    "duration": 3061,
    "start_time": "2023-06-09T18:13:49.876Z"
   },
   {
    "duration": 2192,
    "start_time": "2023-06-09T18:13:52.940Z"
   },
   {
    "duration": 3,
    "start_time": "2023-06-09T18:13:55.134Z"
   },
   {
    "duration": 1488,
    "start_time": "2023-06-09T18:13:55.139Z"
   },
   {
    "duration": 29,
    "start_time": "2023-06-09T18:13:56.628Z"
   },
   {
    "duration": 123,
    "start_time": "2023-06-09T18:13:56.659Z"
   },
   {
    "duration": 781,
    "start_time": "2023-06-09T18:13:56.786Z"
   },
   {
    "duration": 4,
    "start_time": "2023-06-09T18:13:57.569Z"
   },
   {
    "duration": 99,
    "start_time": "2023-06-09T18:13:57.574Z"
   },
   {
    "duration": 42,
    "start_time": "2023-06-09T18:13:57.675Z"
   },
   {
    "duration": 46,
    "start_time": "2023-06-09T18:13:57.719Z"
   },
   {
    "duration": 80,
    "start_time": "2023-06-09T18:13:57.767Z"
   },
   {
    "duration": 134,
    "start_time": "2023-06-09T18:13:57.848Z"
   },
   {
    "duration": 83,
    "start_time": "2023-06-09T18:13:57.985Z"
   },
   {
    "duration": 3306,
    "start_time": "2023-06-09T18:13:58.070Z"
   },
   {
    "duration": 42239,
    "start_time": "2023-06-09T18:14:01.378Z"
   },
   {
    "duration": 613903,
    "start_time": "2023-06-09T18:14:43.619Z"
   },
   {
    "duration": 778,
    "start_time": "2023-06-09T18:24:57.524Z"
   },
   {
    "duration": 74,
    "start_time": "2023-06-09T18:24:58.306Z"
   },
   {
    "duration": 22,
    "start_time": "2023-06-09T18:24:58.383Z"
   },
   {
    "duration": 60,
    "start_time": "2023-06-09T18:24:58.407Z"
   },
   {
    "duration": 347,
    "start_time": "2023-06-09T18:24:58.471Z"
   },
   {
    "duration": 4662,
    "start_time": "2023-06-09T18:24:58.820Z"
   },
   {
    "duration": 145881,
    "start_time": "2023-06-09T18:25:03.484Z"
   },
   {
    "duration": 829,
    "start_time": "2023-06-09T18:27:29.371Z"
   },
   {
    "duration": 62,
    "start_time": "2023-06-09T18:27:30.202Z"
   },
   {
    "duration": 17,
    "start_time": "2023-06-09T18:27:30.268Z"
   },
   {
    "duration": 52,
    "start_time": "2023-06-09T18:27:30.287Z"
   },
   {
    "duration": 227,
    "start_time": "2023-06-09T18:27:30.340Z"
   },
   {
    "duration": 3362,
    "start_time": "2023-06-09T18:27:30.569Z"
   },
   {
    "duration": 78062,
    "start_time": "2023-06-09T18:27:33.932Z"
   },
   {
    "duration": 517,
    "start_time": "2023-06-09T18:28:51.996Z"
   },
   {
    "duration": 59,
    "start_time": "2023-06-09T18:28:52.515Z"
   },
   {
    "duration": 113,
    "start_time": "2023-06-09T18:28:52.575Z"
   },
   {
    "duration": 15,
    "start_time": "2023-06-09T18:28:52.689Z"
   },
   {
    "duration": 60,
    "start_time": "2023-06-09T18:28:52.705Z"
   },
   {
    "duration": 336,
    "start_time": "2023-06-09T18:28:52.766Z"
   },
   {
    "duration": 4291,
    "start_time": "2023-06-09T18:28:53.104Z"
   },
   {
    "duration": 139035,
    "start_time": "2023-06-09T18:28:57.396Z"
   },
   {
    "duration": 38807,
    "start_time": "2023-06-09T18:31:16.432Z"
   },
   {
    "duration": 52,
    "start_time": "2023-06-09T18:31:55.241Z"
   },
   {
    "duration": 16,
    "start_time": "2023-06-09T18:31:55.295Z"
   },
   {
    "duration": 74,
    "start_time": "2023-06-09T18:31:55.313Z"
   },
   {
    "duration": 53,
    "start_time": "2023-06-09T18:31:55.389Z"
   },
   {
    "duration": 252,
    "start_time": "2023-06-09T18:31:55.443Z"
   },
   {
    "duration": 3145,
    "start_time": "2023-06-09T18:31:55.697Z"
   },
   {
    "duration": 81384,
    "start_time": "2023-06-09T18:31:58.844Z"
   },
   {
    "duration": 676,
    "start_time": "2023-06-09T18:33:20.229Z"
   },
   {
    "duration": 58,
    "start_time": "2023-06-09T18:33:20.907Z"
   },
   {
    "duration": 129,
    "start_time": "2023-06-09T18:33:20.967Z"
   },
   {
    "duration": 116,
    "start_time": "2023-06-09T18:33:21.099Z"
   },
   {
    "duration": 138,
    "start_time": "2023-06-09T18:33:21.217Z"
   },
   {
    "duration": 119,
    "start_time": "2023-06-09T18:33:21.358Z"
   },
   {
    "duration": 113,
    "start_time": "2023-06-09T18:33:21.479Z"
   },
   {
    "duration": 2893,
    "start_time": "2023-06-09T18:33:21.595Z"
   },
   {
    "duration": 71,
    "start_time": "2023-06-09T18:33:24.489Z"
   },
   {
    "duration": 28,
    "start_time": "2023-06-09T18:33:24.572Z"
   },
   {
    "duration": 103,
    "start_time": "2023-06-09T18:33:24.602Z"
   },
   {
    "duration": 37,
    "start_time": "2023-06-09T18:33:24.707Z"
   },
   {
    "duration": 364,
    "start_time": "2023-06-09T18:33:24.748Z"
   },
   {
    "duration": 32,
    "start_time": "2023-06-09T18:33:25.115Z"
   },
   {
    "duration": 92,
    "start_time": "2023-06-09T18:33:25.150Z"
   },
   {
    "duration": 34,
    "start_time": "2023-06-09T18:33:25.245Z"
   },
   {
    "duration": 50,
    "start_time": "2023-06-09T18:33:25.282Z"
   },
   {
    "duration": 50,
    "start_time": "2023-06-09T18:33:25.334Z"
   },
   {
    "duration": 232,
    "start_time": "2023-06-09T18:33:25.386Z"
   },
   {
    "duration": 7,
    "start_time": "2023-06-09T18:33:25.621Z"
   },
   {
    "duration": 64,
    "start_time": "2023-06-09T18:33:25.630Z"
   },
   {
    "duration": 43,
    "start_time": "2023-06-09T18:33:25.696Z"
   },
   {
    "duration": 6,
    "start_time": "2023-06-09T18:33:25.741Z"
   },
   {
    "duration": 102,
    "start_time": "2023-06-09T18:33:25.749Z"
   },
   {
    "duration": 408,
    "start_time": "2023-06-09T18:33:25.853Z"
   },
   {
    "duration": 21,
    "start_time": "2023-06-09T18:33:26.264Z"
   },
   {
    "duration": 53,
    "start_time": "2023-06-09T18:33:26.287Z"
   },
   {
    "duration": 54,
    "start_time": "2023-06-09T18:33:26.341Z"
   },
   {
    "duration": 54,
    "start_time": "2023-06-09T18:33:26.396Z"
   },
   {
    "duration": 70,
    "start_time": "2023-06-09T18:33:26.454Z"
   },
   {
    "duration": 112,
    "start_time": "2023-06-09T18:33:26.525Z"
   },
   {
    "duration": 837,
    "start_time": "2023-06-09T18:33:26.648Z"
   },
   {
    "duration": 1062,
    "start_time": "2023-06-09T18:33:27.487Z"
   },
   {
    "duration": 428,
    "start_time": "2023-06-09T18:33:28.551Z"
   },
   {
    "duration": 4,
    "start_time": "2023-06-09T18:33:28.981Z"
   },
   {
    "duration": 20,
    "start_time": "2023-06-09T18:33:28.987Z"
   },
   {
    "duration": 299,
    "start_time": "2023-06-09T18:33:29.009Z"
   },
   {
    "duration": 6,
    "start_time": "2023-06-09T18:33:29.310Z"
   },
   {
    "duration": 8,
    "start_time": "2023-06-09T18:33:29.318Z"
   },
   {
    "duration": 32,
    "start_time": "2023-06-09T18:33:29.341Z"
   },
   {
    "duration": 31,
    "start_time": "2023-06-09T18:33:29.379Z"
   },
   {
    "duration": 28,
    "start_time": "2023-06-09T18:33:29.411Z"
   },
   {
    "duration": 28,
    "start_time": "2023-06-09T18:33:29.441Z"
   },
   {
    "duration": 74,
    "start_time": "2023-06-09T18:33:29.471Z"
   },
   {
    "duration": 30,
    "start_time": "2023-06-09T18:33:29.547Z"
   },
   {
    "duration": 26,
    "start_time": "2023-06-09T18:33:29.581Z"
   },
   {
    "duration": 41,
    "start_time": "2023-06-09T18:33:29.609Z"
   },
   {
    "duration": 78,
    "start_time": "2023-06-09T18:33:29.652Z"
   },
   {
    "duration": 14,
    "start_time": "2023-06-09T18:33:29.744Z"
   },
   {
    "duration": 40,
    "start_time": "2023-06-09T18:33:29.760Z"
   },
   {
    "duration": 78,
    "start_time": "2023-06-09T18:33:29.802Z"
   },
   {
    "duration": 5,
    "start_time": "2023-06-09T18:33:29.882Z"
   },
   {
    "duration": 2017,
    "start_time": "2023-06-09T18:33:29.889Z"
   },
   {
    "duration": 1428,
    "start_time": "2023-06-09T18:33:31.909Z"
   },
   {
    "duration": 185,
    "start_time": "2023-06-09T18:33:33.343Z"
   },
   {
    "duration": 4,
    "start_time": "2023-06-09T18:33:33.530Z"
   },
   {
    "duration": 44267,
    "start_time": "2023-06-09T18:33:33.543Z"
   },
   {
    "duration": 0,
    "start_time": "2023-06-09T18:34:17.812Z"
   },
   {
    "duration": 1,
    "start_time": "2023-06-09T18:34:17.813Z"
   },
   {
    "duration": 0,
    "start_time": "2023-06-09T18:34:17.815Z"
   },
   {
    "duration": 0,
    "start_time": "2023-06-09T18:34:17.816Z"
   },
   {
    "duration": 0,
    "start_time": "2023-06-09T18:34:17.817Z"
   },
   {
    "duration": 0,
    "start_time": "2023-06-09T18:34:17.820Z"
   },
   {
    "duration": 0,
    "start_time": "2023-06-09T18:34:17.821Z"
   },
   {
    "duration": 0,
    "start_time": "2023-06-09T18:34:17.822Z"
   },
   {
    "duration": 0,
    "start_time": "2023-06-09T18:34:17.824Z"
   },
   {
    "duration": 0,
    "start_time": "2023-06-09T18:34:17.841Z"
   },
   {
    "duration": 0,
    "start_time": "2023-06-09T18:34:17.843Z"
   },
   {
    "duration": 3050,
    "start_time": "2023-06-11T07:56:44.269Z"
   },
   {
    "duration": 2799,
    "start_time": "2023-06-11T07:56:47.321Z"
   },
   {
    "duration": 2201,
    "start_time": "2023-06-11T07:56:50.122Z"
   },
   {
    "duration": 3188,
    "start_time": "2023-06-11T07:56:52.326Z"
   },
   {
    "duration": 1889,
    "start_time": "2023-06-11T07:56:55.516Z"
   },
   {
    "duration": 2,
    "start_time": "2023-06-11T07:56:57.407Z"
   },
   {
    "duration": 1142,
    "start_time": "2023-06-11T07:56:57.410Z"
   },
   {
    "duration": 15,
    "start_time": "2023-06-11T07:56:58.554Z"
   },
   {
    "duration": 149,
    "start_time": "2023-06-11T07:56:58.571Z"
   },
   {
    "duration": 780,
    "start_time": "2023-06-11T07:56:58.726Z"
   },
   {
    "duration": 3,
    "start_time": "2023-06-11T07:56:59.508Z"
   },
   {
    "duration": 93,
    "start_time": "2023-06-11T07:56:59.513Z"
   },
   {
    "duration": 63,
    "start_time": "2023-06-11T07:56:59.608Z"
   },
   {
    "duration": 58,
    "start_time": "2023-06-11T07:56:59.673Z"
   },
   {
    "duration": 76,
    "start_time": "2023-06-11T07:56:59.733Z"
   },
   {
    "duration": 91,
    "start_time": "2023-06-11T07:56:59.811Z"
   },
   {
    "duration": 78,
    "start_time": "2023-06-11T07:56:59.904Z"
   },
   {
    "duration": 3113,
    "start_time": "2023-06-11T07:56:59.984Z"
   },
   {
    "duration": 35795,
    "start_time": "2023-06-11T07:57:03.098Z"
   },
   {
    "duration": 415777,
    "start_time": "2023-06-11T07:57:38.895Z"
   },
   {
    "duration": 0,
    "start_time": "2023-06-11T08:04:34.676Z"
   },
   {
    "duration": 0,
    "start_time": "2023-06-11T08:04:34.677Z"
   },
   {
    "duration": 0,
    "start_time": "2023-06-11T08:04:34.678Z"
   },
   {
    "duration": 0,
    "start_time": "2023-06-11T08:04:34.679Z"
   },
   {
    "duration": 0,
    "start_time": "2023-06-11T08:04:34.680Z"
   },
   {
    "duration": 0,
    "start_time": "2023-06-11T08:04:34.681Z"
   },
   {
    "duration": 0,
    "start_time": "2023-06-11T08:04:34.682Z"
   },
   {
    "duration": 0,
    "start_time": "2023-06-11T08:04:34.683Z"
   },
   {
    "duration": 0,
    "start_time": "2023-06-11T08:04:34.684Z"
   },
   {
    "duration": 0,
    "start_time": "2023-06-11T08:04:34.685Z"
   },
   {
    "duration": 0,
    "start_time": "2023-06-11T08:04:34.687Z"
   },
   {
    "duration": 0,
    "start_time": "2023-06-11T08:04:34.688Z"
   },
   {
    "duration": 0,
    "start_time": "2023-06-11T08:04:34.689Z"
   },
   {
    "duration": 0,
    "start_time": "2023-06-11T08:04:34.690Z"
   },
   {
    "duration": 0,
    "start_time": "2023-06-11T08:04:34.691Z"
   },
   {
    "duration": 0,
    "start_time": "2023-06-11T08:04:34.692Z"
   },
   {
    "duration": 0,
    "start_time": "2023-06-11T08:04:34.725Z"
   },
   {
    "duration": 0,
    "start_time": "2023-06-11T08:04:34.726Z"
   },
   {
    "duration": 0,
    "start_time": "2023-06-11T08:04:34.727Z"
   },
   {
    "duration": 0,
    "start_time": "2023-06-11T08:04:34.729Z"
   },
   {
    "duration": 0,
    "start_time": "2023-06-11T08:04:34.731Z"
   },
   {
    "duration": 0,
    "start_time": "2023-06-11T08:04:34.732Z"
   },
   {
    "duration": 0,
    "start_time": "2023-06-11T08:04:34.734Z"
   },
   {
    "duration": 0,
    "start_time": "2023-06-11T08:04:34.735Z"
   },
   {
    "duration": 0,
    "start_time": "2023-06-11T08:04:34.736Z"
   },
   {
    "duration": 0,
    "start_time": "2023-06-11T08:04:34.738Z"
   },
   {
    "duration": 0,
    "start_time": "2023-06-11T08:04:34.739Z"
   },
   {
    "duration": 0,
    "start_time": "2023-06-11T08:04:34.742Z"
   },
   {
    "duration": 0,
    "start_time": "2023-06-11T08:04:34.743Z"
   },
   {
    "duration": 0,
    "start_time": "2023-06-11T08:04:34.745Z"
   },
   {
    "duration": 0,
    "start_time": "2023-06-11T08:04:34.745Z"
   },
   {
    "duration": 0,
    "start_time": "2023-06-11T08:04:34.747Z"
   },
   {
    "duration": 0,
    "start_time": "2023-06-11T08:04:34.748Z"
   },
   {
    "duration": 0,
    "start_time": "2023-06-11T08:04:34.749Z"
   },
   {
    "duration": 0,
    "start_time": "2023-06-11T08:04:34.750Z"
   },
   {
    "duration": 0,
    "start_time": "2023-06-11T08:04:34.760Z"
   },
   {
    "duration": 0,
    "start_time": "2023-06-11T08:04:34.761Z"
   },
   {
    "duration": 0,
    "start_time": "2023-06-11T08:04:34.762Z"
   },
   {
    "duration": 0,
    "start_time": "2023-06-11T08:04:34.763Z"
   },
   {
    "duration": 0,
    "start_time": "2023-06-11T08:04:34.765Z"
   },
   {
    "duration": 0,
    "start_time": "2023-06-11T08:04:34.766Z"
   },
   {
    "duration": 0,
    "start_time": "2023-06-11T08:04:34.767Z"
   },
   {
    "duration": 0,
    "start_time": "2023-06-11T08:04:34.769Z"
   },
   {
    "duration": 0,
    "start_time": "2023-06-11T08:04:34.824Z"
   },
   {
    "duration": 0,
    "start_time": "2023-06-11T08:04:34.826Z"
   },
   {
    "duration": 0,
    "start_time": "2023-06-11T08:04:34.827Z"
   },
   {
    "duration": 0,
    "start_time": "2023-06-11T08:04:34.828Z"
   },
   {
    "duration": 0,
    "start_time": "2023-06-11T08:04:34.830Z"
   },
   {
    "duration": 0,
    "start_time": "2023-06-11T08:04:34.831Z"
   },
   {
    "duration": 0,
    "start_time": "2023-06-11T08:04:34.833Z"
   },
   {
    "duration": 0,
    "start_time": "2023-06-11T08:04:34.834Z"
   },
   {
    "duration": 0,
    "start_time": "2023-06-11T08:04:34.836Z"
   },
   {
    "duration": 0,
    "start_time": "2023-06-11T08:04:34.838Z"
   },
   {
    "duration": 0,
    "start_time": "2023-06-11T08:04:34.839Z"
   },
   {
    "duration": 0,
    "start_time": "2023-06-11T08:04:34.841Z"
   },
   {
    "duration": 0,
    "start_time": "2023-06-11T08:04:34.843Z"
   },
   {
    "duration": 0,
    "start_time": "2023-06-11T08:04:34.844Z"
   },
   {
    "duration": 0,
    "start_time": "2023-06-11T08:04:34.845Z"
   },
   {
    "duration": 0,
    "start_time": "2023-06-11T08:04:34.847Z"
   },
   {
    "duration": 0,
    "start_time": "2023-06-11T08:04:34.848Z"
   },
   {
    "duration": 0,
    "start_time": "2023-06-11T08:04:34.849Z"
   },
   {
    "duration": 0,
    "start_time": "2023-06-11T08:04:34.851Z"
   },
   {
    "duration": 0,
    "start_time": "2023-06-11T08:04:34.852Z"
   },
   {
    "duration": 0,
    "start_time": "2023-06-11T08:04:34.853Z"
   },
   {
    "duration": 0,
    "start_time": "2023-06-11T08:04:34.855Z"
   },
   {
    "duration": 0,
    "start_time": "2023-06-11T08:04:34.856Z"
   },
   {
    "duration": 0,
    "start_time": "2023-06-11T08:04:34.857Z"
   },
   {
    "duration": 0,
    "start_time": "2023-06-11T08:04:34.859Z"
   },
   {
    "duration": 0,
    "start_time": "2023-06-11T08:04:34.861Z"
   },
   {
    "duration": 0,
    "start_time": "2023-06-11T08:04:34.862Z"
   },
   {
    "duration": 0,
    "start_time": "2023-06-11T08:04:34.863Z"
   },
   {
    "duration": 0,
    "start_time": "2023-06-11T08:04:34.925Z"
   },
   {
    "duration": 0,
    "start_time": "2023-06-11T08:04:34.926Z"
   },
   {
    "duration": 0,
    "start_time": "2023-06-11T08:04:34.928Z"
   },
   {
    "duration": 0,
    "start_time": "2023-06-11T08:04:34.929Z"
   },
   {
    "duration": 0,
    "start_time": "2023-06-11T08:04:34.931Z"
   },
   {
    "duration": 0,
    "start_time": "2023-06-11T08:04:34.933Z"
   },
   {
    "duration": 0,
    "start_time": "2023-06-11T08:04:34.934Z"
   },
   {
    "duration": 0,
    "start_time": "2023-06-11T08:04:34.936Z"
   },
   {
    "duration": 0,
    "start_time": "2023-06-11T08:04:34.937Z"
   },
   {
    "duration": 0,
    "start_time": "2023-06-11T08:04:34.938Z"
   },
   {
    "duration": 0,
    "start_time": "2023-06-11T08:04:34.940Z"
   },
   {
    "duration": 0,
    "start_time": "2023-06-11T08:04:34.942Z"
   },
   {
    "duration": 0,
    "start_time": "2023-06-11T08:04:34.944Z"
   },
   {
    "duration": 0,
    "start_time": "2023-06-11T08:04:34.945Z"
   },
   {
    "duration": 0,
    "start_time": "2023-06-11T08:04:34.947Z"
   },
   {
    "duration": 0,
    "start_time": "2023-06-11T08:04:34.948Z"
   },
   {
    "duration": 0,
    "start_time": "2023-06-11T08:04:34.949Z"
   },
   {
    "duration": 0,
    "start_time": "2023-06-11T08:04:34.951Z"
   },
   {
    "duration": 0,
    "start_time": "2023-06-11T08:04:34.952Z"
   },
   {
    "duration": 0,
    "start_time": "2023-06-11T08:04:34.954Z"
   },
   {
    "duration": 0,
    "start_time": "2023-06-11T08:04:34.955Z"
   },
   {
    "duration": 0,
    "start_time": "2023-06-11T08:04:34.956Z"
   },
   {
    "duration": 0,
    "start_time": "2023-06-11T08:04:34.957Z"
   },
   {
    "duration": 0,
    "start_time": "2023-06-11T08:04:34.958Z"
   },
   {
    "duration": 0,
    "start_time": "2023-06-11T08:04:34.959Z"
   },
   {
    "duration": 0,
    "start_time": "2023-06-11T08:04:34.961Z"
   },
   {
    "duration": 0,
    "start_time": "2023-06-11T08:04:34.962Z"
   },
   {
    "duration": 0,
    "start_time": "2023-06-11T08:04:34.963Z"
   },
   {
    "duration": 3025,
    "start_time": "2023-06-12T08:11:11.042Z"
   },
   {
    "duration": 2809,
    "start_time": "2023-06-12T08:11:14.070Z"
   },
   {
    "duration": 2185,
    "start_time": "2023-06-12T08:11:16.881Z"
   },
   {
    "duration": 2854,
    "start_time": "2023-06-12T08:11:19.068Z"
   },
   {
    "duration": 2021,
    "start_time": "2023-06-12T08:11:21.924Z"
   },
   {
    "duration": 3,
    "start_time": "2023-06-12T08:11:23.946Z"
   },
   {
    "duration": 2901,
    "start_time": "2023-06-12T08:11:23.951Z"
   },
   {
    "duration": 17,
    "start_time": "2023-06-12T08:11:26.854Z"
   },
   {
    "duration": 113,
    "start_time": "2023-06-12T08:11:26.873Z"
   },
   {
    "duration": 719,
    "start_time": "2023-06-12T08:11:26.989Z"
   },
   {
    "duration": 2,
    "start_time": "2023-06-12T08:11:27.710Z"
   },
   {
    "duration": 85,
    "start_time": "2023-06-12T08:11:27.714Z"
   },
   {
    "duration": 29,
    "start_time": "2023-06-12T08:11:27.801Z"
   },
   {
    "duration": 20,
    "start_time": "2023-06-12T08:11:27.832Z"
   },
   {
    "duration": 40,
    "start_time": "2023-06-12T08:11:27.853Z"
   },
   {
    "duration": 80,
    "start_time": "2023-06-12T08:11:27.895Z"
   },
   {
    "duration": 61,
    "start_time": "2023-06-12T08:11:27.977Z"
   },
   {
    "duration": 2757,
    "start_time": "2023-06-12T08:11:28.050Z"
   },
   {
    "duration": 37632,
    "start_time": "2023-06-12T08:11:30.810Z"
   },
   {
    "duration": 549061,
    "start_time": "2023-06-12T08:12:08.444Z"
   },
   {
    "duration": 531,
    "start_time": "2023-06-12T08:21:17.507Z"
   },
   {
    "duration": 48,
    "start_time": "2023-06-12T08:21:18.040Z"
   },
   {
    "duration": 15,
    "start_time": "2023-06-12T08:21:18.090Z"
   },
   {
    "duration": 59,
    "start_time": "2023-06-12T08:21:18.106Z"
   },
   {
    "duration": 307,
    "start_time": "2023-06-12T08:21:18.167Z"
   },
   {
    "duration": 3923,
    "start_time": "2023-06-12T08:21:18.476Z"
   },
   {
    "duration": 133883,
    "start_time": "2023-06-12T08:21:22.400Z"
   },
   {
    "duration": 712,
    "start_time": "2023-06-12T08:23:36.286Z"
   },
   {
    "duration": 54,
    "start_time": "2023-06-12T08:23:37.000Z"
   },
   {
    "duration": 20,
    "start_time": "2023-06-12T08:23:37.056Z"
   },
   {
    "duration": 39,
    "start_time": "2023-06-12T08:23:37.078Z"
   },
   {
    "duration": 224,
    "start_time": "2023-06-12T08:23:37.119Z"
   },
   {
    "duration": 3097,
    "start_time": "2023-06-12T08:23:37.345Z"
   },
   {
    "duration": 69998,
    "start_time": "2023-06-12T08:23:40.444Z"
   },
   {
    "duration": 533,
    "start_time": "2023-06-12T08:24:50.444Z"
   },
   {
    "duration": 45,
    "start_time": "2023-06-12T08:24:50.979Z"
   },
   {
    "duration": 128,
    "start_time": "2023-06-12T08:24:51.025Z"
   },
   {
    "duration": 19,
    "start_time": "2023-06-12T08:24:51.157Z"
   },
   {
    "duration": 38,
    "start_time": "2023-06-12T08:24:51.177Z"
   },
   {
    "duration": 369,
    "start_time": "2023-06-12T08:24:51.217Z"
   },
   {
    "duration": 4280,
    "start_time": "2023-06-12T08:24:51.588Z"
   },
   {
    "duration": 126888,
    "start_time": "2023-06-12T08:24:55.870Z"
   },
   {
    "duration": 33741,
    "start_time": "2023-06-12T08:27:02.765Z"
   },
   {
    "duration": 65,
    "start_time": "2023-06-12T08:27:36.508Z"
   },
   {
    "duration": 17,
    "start_time": "2023-06-12T08:27:36.575Z"
   },
   {
    "duration": 67,
    "start_time": "2023-06-12T08:27:36.593Z"
   },
   {
    "duration": 38,
    "start_time": "2023-06-12T08:27:36.662Z"
   },
   {
    "duration": 225,
    "start_time": "2023-06-12T08:27:36.702Z"
   },
   {
    "duration": 2946,
    "start_time": "2023-06-12T08:27:36.929Z"
   },
   {
    "duration": 3202,
    "start_time": "2023-06-14T12:04:59.077Z"
   },
   {
    "duration": 3501,
    "start_time": "2023-06-14T12:05:02.282Z"
   },
   {
    "duration": 2310,
    "start_time": "2023-06-14T12:05:05.784Z"
   },
   {
    "duration": 2313,
    "start_time": "2023-06-14T12:05:08.096Z"
   },
   {
    "duration": 1455,
    "start_time": "2023-06-14T12:05:10.412Z"
   },
   {
    "duration": 2,
    "start_time": "2023-06-14T12:05:11.869Z"
   },
   {
    "duration": 1185,
    "start_time": "2023-06-14T12:05:11.873Z"
   },
   {
    "duration": 15,
    "start_time": "2023-06-14T12:05:13.060Z"
   },
   {
    "duration": 122,
    "start_time": "2023-06-14T12:05:13.076Z"
   },
   {
    "duration": 659,
    "start_time": "2023-06-14T12:05:13.199Z"
   },
   {
    "duration": 3,
    "start_time": "2023-06-14T12:05:13.860Z"
   },
   {
    "duration": 46,
    "start_time": "2023-06-14T12:05:13.865Z"
   },
   {
    "duration": 14,
    "start_time": "2023-06-14T12:05:13.912Z"
   },
   {
    "duration": 23,
    "start_time": "2023-06-14T12:05:13.930Z"
   },
   {
    "duration": 43,
    "start_time": "2023-06-14T12:05:13.955Z"
   },
   {
    "duration": 77,
    "start_time": "2023-06-14T12:05:14.000Z"
   },
   {
    "duration": 65,
    "start_time": "2023-06-14T12:05:14.079Z"
   },
   {
    "duration": 3038,
    "start_time": "2023-06-14T12:05:14.145Z"
   },
   {
    "duration": 37760,
    "start_time": "2023-06-14T12:05:17.185Z"
   },
   {
    "duration": 566236,
    "start_time": "2023-06-14T12:05:54.946Z"
   },
   {
    "duration": 585,
    "start_time": "2023-06-14T12:15:21.184Z"
   },
   {
    "duration": 36,
    "start_time": "2023-06-14T12:15:21.771Z"
   },
   {
    "duration": 22,
    "start_time": "2023-06-14T12:15:21.821Z"
   },
   {
    "duration": 51,
    "start_time": "2023-06-14T12:15:21.844Z"
   },
   {
    "duration": 341,
    "start_time": "2023-06-14T12:15:21.896Z"
   },
   {
    "duration": 4359,
    "start_time": "2023-06-14T12:15:22.239Z"
   },
   {
    "duration": 124421,
    "start_time": "2023-06-14T12:15:26.600Z"
   },
   {
    "duration": 744,
    "start_time": "2023-06-14T12:17:31.022Z"
   },
   {
    "duration": 35,
    "start_time": "2023-06-14T12:17:31.768Z"
   },
   {
    "duration": 33,
    "start_time": "2023-06-14T12:17:31.804Z"
   },
   {
    "duration": 89,
    "start_time": "2023-06-14T12:17:31.838Z"
   },
   {
    "duration": 266,
    "start_time": "2023-06-14T12:17:31.929Z"
   },
   {
    "duration": 3219,
    "start_time": "2023-06-14T12:17:32.197Z"
   },
   {
    "duration": 68507,
    "start_time": "2023-06-14T12:17:35.418Z"
   },
   {
    "duration": 1095,
    "start_time": "2023-06-14T12:18:43.926Z"
   },
   {
    "duration": 37,
    "start_time": "2023-06-14T12:18:45.022Z"
   },
   {
    "duration": 123,
    "start_time": "2023-06-14T12:18:45.061Z"
   },
   {
    "duration": 42,
    "start_time": "2023-06-14T12:18:45.187Z"
   },
   {
    "duration": 45,
    "start_time": "2023-06-14T12:18:45.234Z"
   },
   {
    "duration": 266,
    "start_time": "2023-06-14T12:18:45.282Z"
   },
   {
    "duration": 0,
    "start_time": "2023-06-14T12:18:45.553Z"
   },
   {
    "duration": 0,
    "start_time": "2023-06-14T12:18:45.555Z"
   },
   {
    "duration": 0,
    "start_time": "2023-06-14T12:18:45.556Z"
   },
   {
    "duration": 0,
    "start_time": "2023-06-14T12:18:45.562Z"
   },
   {
    "duration": 0,
    "start_time": "2023-06-14T12:18:45.563Z"
   },
   {
    "duration": 0,
    "start_time": "2023-06-14T12:18:45.565Z"
   },
   {
    "duration": 0,
    "start_time": "2023-06-14T12:18:45.566Z"
   },
   {
    "duration": 0,
    "start_time": "2023-06-14T12:18:45.568Z"
   },
   {
    "duration": 0,
    "start_time": "2023-06-14T12:18:45.569Z"
   },
   {
    "duration": 0,
    "start_time": "2023-06-14T12:18:45.570Z"
   },
   {
    "duration": 0,
    "start_time": "2023-06-14T12:18:45.572Z"
   },
   {
    "duration": 0,
    "start_time": "2023-06-14T12:18:45.573Z"
   },
   {
    "duration": 0,
    "start_time": "2023-06-14T12:18:45.575Z"
   },
   {
    "duration": 0,
    "start_time": "2023-06-14T12:18:45.576Z"
   },
   {
    "duration": 1,
    "start_time": "2023-06-14T12:18:45.577Z"
   },
   {
    "duration": 0,
    "start_time": "2023-06-14T12:18:45.579Z"
   },
   {
    "duration": 0,
    "start_time": "2023-06-14T12:18:45.580Z"
   },
   {
    "duration": 0,
    "start_time": "2023-06-14T12:18:45.581Z"
   },
   {
    "duration": 0,
    "start_time": "2023-06-14T12:18:45.582Z"
   },
   {
    "duration": 0,
    "start_time": "2023-06-14T12:18:45.583Z"
   },
   {
    "duration": 0,
    "start_time": "2023-06-14T12:18:45.584Z"
   },
   {
    "duration": 0,
    "start_time": "2023-06-14T12:18:45.584Z"
   },
   {
    "duration": 0,
    "start_time": "2023-06-14T12:18:45.625Z"
   },
   {
    "duration": 0,
    "start_time": "2023-06-14T12:18:45.626Z"
   },
   {
    "duration": 0,
    "start_time": "2023-06-14T12:18:45.627Z"
   },
   {
    "duration": 0,
    "start_time": "2023-06-14T12:18:45.628Z"
   },
   {
    "duration": 0,
    "start_time": "2023-06-14T12:18:45.629Z"
   },
   {
    "duration": 0,
    "start_time": "2023-06-14T12:18:45.631Z"
   },
   {
    "duration": 0,
    "start_time": "2023-06-14T12:18:45.632Z"
   },
   {
    "duration": 0,
    "start_time": "2023-06-14T12:18:45.634Z"
   },
   {
    "duration": 0,
    "start_time": "2023-06-14T12:18:45.636Z"
   },
   {
    "duration": 0,
    "start_time": "2023-06-14T12:18:45.637Z"
   },
   {
    "duration": 0,
    "start_time": "2023-06-14T12:18:45.638Z"
   },
   {
    "duration": 0,
    "start_time": "2023-06-14T12:18:45.640Z"
   },
   {
    "duration": 0,
    "start_time": "2023-06-14T12:18:45.641Z"
   },
   {
    "duration": 0,
    "start_time": "2023-06-14T12:18:45.642Z"
   },
   {
    "duration": 0,
    "start_time": "2023-06-14T12:18:45.643Z"
   },
   {
    "duration": 0,
    "start_time": "2023-06-14T12:18:45.644Z"
   },
   {
    "duration": 0,
    "start_time": "2023-06-14T12:18:45.646Z"
   },
   {
    "duration": 0,
    "start_time": "2023-06-14T12:18:45.647Z"
   },
   {
    "duration": 0,
    "start_time": "2023-06-14T12:18:45.648Z"
   },
   {
    "duration": 0,
    "start_time": "2023-06-14T12:18:45.650Z"
   },
   {
    "duration": 0,
    "start_time": "2023-06-14T12:18:45.651Z"
   },
   {
    "duration": 0,
    "start_time": "2023-06-14T12:18:45.653Z"
   },
   {
    "duration": 0,
    "start_time": "2023-06-14T12:18:45.655Z"
   },
   {
    "duration": 0,
    "start_time": "2023-06-14T12:18:45.657Z"
   },
   {
    "duration": 0,
    "start_time": "2023-06-14T12:18:45.658Z"
   },
   {
    "duration": 0,
    "start_time": "2023-06-14T12:18:45.660Z"
   },
   {
    "duration": 0,
    "start_time": "2023-06-14T12:18:45.661Z"
   },
   {
    "duration": 0,
    "start_time": "2023-06-14T12:18:45.663Z"
   },
   {
    "duration": 0,
    "start_time": "2023-06-14T12:18:45.664Z"
   },
   {
    "duration": 0,
    "start_time": "2023-06-14T12:18:45.721Z"
   },
   {
    "duration": 0,
    "start_time": "2023-06-14T12:18:45.729Z"
   },
   {
    "duration": 0,
    "start_time": "2023-06-14T12:18:45.730Z"
   },
   {
    "duration": 0,
    "start_time": "2023-06-14T12:18:45.731Z"
   },
   {
    "duration": 0,
    "start_time": "2023-06-14T12:18:45.732Z"
   },
   {
    "duration": 0,
    "start_time": "2023-06-14T12:18:45.733Z"
   },
   {
    "duration": 0,
    "start_time": "2023-06-14T12:18:45.734Z"
   },
   {
    "duration": 0,
    "start_time": "2023-06-14T12:18:45.734Z"
   },
   {
    "duration": 0,
    "start_time": "2023-06-14T12:18:45.735Z"
   },
   {
    "duration": 0,
    "start_time": "2023-06-14T12:18:45.736Z"
   },
   {
    "duration": 0,
    "start_time": "2023-06-14T12:18:45.737Z"
   },
   {
    "duration": 0,
    "start_time": "2023-06-14T12:18:45.738Z"
   },
   {
    "duration": 0,
    "start_time": "2023-06-14T12:18:45.739Z"
   },
   {
    "duration": 0,
    "start_time": "2023-06-14T12:18:45.742Z"
   },
   {
    "duration": 0,
    "start_time": "2023-06-14T12:18:45.743Z"
   },
   {
    "duration": 0,
    "start_time": "2023-06-14T12:18:45.744Z"
   },
   {
    "duration": 0,
    "start_time": "2023-06-14T12:18:45.746Z"
   },
   {
    "duration": 0,
    "start_time": "2023-06-14T12:18:45.747Z"
   },
   {
    "duration": 0,
    "start_time": "2023-06-14T12:18:45.748Z"
   },
   {
    "duration": 0,
    "start_time": "2023-06-14T12:18:45.749Z"
   },
   {
    "duration": 0,
    "start_time": "2023-06-14T12:18:45.750Z"
   },
   {
    "duration": 0,
    "start_time": "2023-06-14T12:18:45.751Z"
   },
   {
    "duration": 0,
    "start_time": "2023-06-14T12:18:45.753Z"
   },
   {
    "duration": 0,
    "start_time": "2023-06-14T12:18:45.754Z"
   },
   {
    "duration": 0,
    "start_time": "2023-06-14T12:18:45.755Z"
   },
   {
    "duration": 0,
    "start_time": "2023-06-14T12:18:45.756Z"
   },
   {
    "duration": 0,
    "start_time": "2023-06-14T12:18:45.757Z"
   },
   {
    "duration": 0,
    "start_time": "2023-06-14T12:18:45.758Z"
   }
  ],
  "kernelspec": {
   "display_name": "Python 3 (ipykernel)",
   "language": "python",
   "name": "python3"
  },
  "language_info": {
   "codemirror_mode": {
    "name": "ipython",
    "version": 3
   },
   "file_extension": ".py",
   "mimetype": "text/x-python",
   "name": "python",
   "nbconvert_exporter": "python",
   "pygments_lexer": "ipython3",
   "version": "3.9.13"
  },
  "toc": {
   "base_numbering": 1,
   "nav_menu": {},
   "number_sections": true,
   "sideBar": true,
   "skip_h1_title": true,
   "title_cell": "Table of Contents",
   "title_sidebar": "Contents",
   "toc_cell": false,
   "toc_position": {},
   "toc_section_display": true,
   "toc_window_display": false
  }
 },
 "nbformat": 4,
 "nbformat_minor": 2
}
